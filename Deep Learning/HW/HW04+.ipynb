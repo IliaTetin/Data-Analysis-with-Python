{
 "cells": [
  {
   "cell_type": "markdown",
   "metadata": {
    "id": "FgzQ5bscUnsm"
   },
   "source": [
    "# Домашнее задание №4\n",
    "\n",
    "##### Автор: [Татьяна Гайнцева](https://www.linkedin.com/in/tgaintseva/), @atmyre"
   ]
  },
  {
   "cell_type": "code",
   "execution_count": 1,
   "metadata": {
    "id": "dlo1UHiNUnsp"
   },
   "outputs": [],
   "source": [
    "import numpy as np\n",
    "\n",
    "import torch\n",
    "from torch import nn\n",
    "from torch.nn import functional as F\n",
    "\n",
    "import torchvision\n",
    "from torchvision import datasets, transforms\n",
    "\n",
    "from matplotlib import pyplot as plt\n",
    "from IPython.display import clear_output"
   ]
  },
  {
   "cell_type": "markdown",
   "metadata": {
    "id": "vdRDK1t0Wgxy"
   },
   "source": [
    "Это домашнее задание состоит из двух частей. В первой части вам нужно реализовать правильную архитектуру сверточной нейросети. Во второй части — подобрать хорошую архитектуру и обучить ее на датасете CIFAR так, чтобы результаты метрики accuracy на тестовой части CIFAR были больше 60%"
   ]
  },
  {
   "cell_type": "markdown",
   "metadata": {
    "id": "GmVeuJosbxFD"
   },
   "source": [
    "## Задача №1:\n",
    "В этом задании вам нужно заполнить пропуски в ячейке ниже, чтобы получилась сверточная нейросеть с заданными параметрами."
   ]
  },
  {
   "cell_type": "markdown",
   "metadata": {
    "id": "QwGlvTT-b5tW"
   },
   "source": [
    "Архитектура сети:\n",
    "**conv1 -> maxpool1 -> conv2 -> maxpool2 -> flatten -> fc1 -> fc2**\n",
    "\n",
    "- conv1: 3 фильтра размера (5, 5);\n",
    "- maxpool1: ядро размера 2;\n",
    "- conv2: 5 фильтров размера (3, 3);\n",
    "- maxpool2: ядро размера 2;\n",
    "- fc1: 100 нейронов на выходе;\n",
    "- fc2: 10 нейронов на выходе.\n",
    "\n",
    "После сверточных слоев и первого полносвязного слоя нужно применить функцию активации ReLU. **Важно:** для успешной сдачи задания функция активации должна быть применена с помощью F.ReLU (не с помощью nn.ReLU).\n",
    "\n",
    "**Нейросеть должна работать с изображениями размера 32х32. Никакие дополнительные параметры слоев, кроме указанных выше, задавать не нужно**."
   ]
  },
  {
   "cell_type": "code",
   "execution_count": 2,
   "metadata": {
    "id": "zEQy7-AEb9--"
   },
   "outputs": [],
   "source": [
    "class ConvNet(nn.Module):\n",
    "    def __init__(self):\n",
    "        super().__init__()\n",
    "\n",
    "        # ВАШ КОД ЗДЕСЬ\n",
    "        # определите слои сети\n",
    "\n",
    "        self.conv1 = nn.Conv2d(in_channels=3, out_channels=3, kernel_size=(5,5)) # 3*32*32 -> 3*28*28\n",
    "        self.pool1 = nn.MaxPool2d((2, 2)) # 3*28*28 -> 3*14*14\n",
    "        self.conv2 = nn.Conv2d(in_channels=3, out_channels=5, kernel_size=(3,3)) # 3*14*14 -> 5*12*12\n",
    "        self.pool2 = nn.MaxPool2d((2, 2)) # 5*12*12 -> 5*6*6\n",
    "\n",
    "        self.flatten = nn.Flatten()\n",
    "\n",
    "        self.fc1 = nn.Linear(6*6*5, 100)\n",
    "        self.fc2 =  nn.Linear(100, 10)\n",
    "\n",
    "\n",
    "    def forward(self, x):\n",
    "        # размерность х ~ [64, 3, 32, 32]\n",
    "\n",
    "        # ВАШ КОД ЗДЕСЬ\n",
    "        # реализуйте forward pass сети\n",
    "\n",
    "        x = self.pool1(F.relu(self.conv1(x)))\n",
    "        x = self.pool2(F.relu(self.conv2(x)))\n",
    "        x = self.flatten(x)\n",
    "        x = F.relu(self.fc1(x))\n",
    "        x = self.fc2(x)\n",
    "        return x"
   ]
  },
  {
   "cell_type": "markdown",
   "metadata": {
    "id": "0nouGfm_gDFD"
   },
   "source": [
    "### Проверка"
   ]
  },
  {
   "cell_type": "markdown",
   "metadata": {
    "id": "TMWATEWKgFgp"
   },
   "source": [
    "Ячейки ниже помогут проверить, что модель написана и работает правильно."
   ]
  },
  {
   "cell_type": "code",
   "execution_count": 3,
   "metadata": {
    "id": "xVbCt6AffvNp"
   },
   "outputs": [],
   "source": [
    "# Эта ячейка не должна выдавать ошибку.\n",
    "# Если при исполнении ячейки возникает ошибка, то в вашей реализации нейросети есть баги.\n",
    "img = torch.Tensor(np.random.random((32, 3, 32, 32)))\n",
    "model = ConvNet()\n",
    "out = model(img)"
   ]
  },
  {
   "cell_type": "markdown",
   "metadata": {
    "id": "HmVRmDEfgdoH"
   },
   "source": [
    "Ячейка ниже проверяет, что устройство сети верное."
   ]
  },
  {
   "cell_type": "code",
   "execution_count": 4,
   "metadata": {
    "id": "iZ_t7mCDesVU"
   },
   "outputs": [],
   "source": [
    "# conv1\n",
    "assert model.conv1.kernel_size == (5, 5), \"неверный размер ядра у conv1\"\n",
    "assert model.conv1.in_channels == 3, \"неверный размер in_channels у conv1\"\n",
    "assert model.conv1.out_channels == 3, \"неверный размер out_channels у conv1\"\n",
    "\n",
    "# pool1\n",
    "assert model.pool1.kernel_size == (2, 2), \"неверный размер ядра у pool1\"\n",
    "\n",
    "# conv2\n",
    "assert model.conv2.kernel_size == (3, 3), \"неверный размер ядра у conv2\"\n",
    "assert model.conv2.in_channels == 3, \"неверный размер in_channels у conv2\"\n",
    "assert model.conv2.out_channels == 5, \"неверный размер out_channels у conv2\"\n",
    "\n",
    "# pool2\n",
    "assert model.pool1.kernel_size == (2, 2), \"неверный размер ядра у pool2\"\n",
    "\n",
    "# fc1\n",
    "assert model.fc1.out_features == 100, \"неверный размер out_features у fc1\"\n",
    "# fc2\n",
    "assert model.fc2.out_features == 10, \"неверный размер out_features у fc2\""
   ]
  },
  {
   "cell_type": "markdown",
   "metadata": {
    "id": "dtKvuJRHqM_d"
   },
   "source": [
    "### Сдача задания"
   ]
  },
  {
   "cell_type": "markdown",
   "metadata": {
    "id": "QybQ4rtQgppH"
   },
   "source": [
    "Если обе ячейки отработали без ошибок, можно сдавать задание в первую задачу на Я.Контесте.\n",
    "Для этого нужно скопировать класс ConvNet в нужное место в `submission_template04.py` и отправить `submission_template04.py` в Я.Контест."
   ]
  },
  {
   "cell_type": "markdown",
   "metadata": {
    "id": "obC9bnWsUnsr"
   },
   "source": [
    "## Задача №2:\n",
    "Вернемся к задаче классификации картинок [CIFAR](https://www.cs.toronto.edu/~kriz/cifar.html).\n",
    "\n",
    "__Ваша основная задача: реализовать весь пайплан обучения модели и добиться хорошего значения метрики accuracy на тестовой выборке.__\n",
    "Баллы за задание:\n",
    "- **0**, если accuracy на тестовой выборке <0.5;\n",
    "- **0.5**, если accuracy на тестовой выборке >0.5 и <0.6;\n",
    "- **1**, если accuracy на тестовой выборке >0.6;\n",
    "\n",
    "Код для обучения модели в данном задании полностью реализован. Вам нужно лишь написать код класса нейросети и поэкспериментировать с параметрами так, чтобы получить хорошее качество. В качестве основы архитектуры сети можно взять сеть из задачи №1."
   ]
  },
  {
   "cell_type": "markdown",
   "metadata": {
    "id": "izGM3kjrhbCk"
   },
   "source": [
    "**! Перед выполнением этого задания рекомендуем включить GPU в настройках колаба.** Это поможет обучать нейросеть быстрее.\n",
    "\n",
    "Чтобы включить GPU, перейдите Edit->Notebook settings и выберите Hardware accelerator=GPU. Нажмите save."
   ]
  },
  {
   "cell_type": "code",
   "execution_count": 5,
   "metadata": {
    "id": "ZUgd4OiDh4EP"
   },
   "outputs": [],
   "source": [
    "import numpy as np\n",
    "\n",
    "import torch\n",
    "from torch import nn\n",
    "from torch.nn import functional as F\n",
    "\n",
    "import torchvision\n",
    "from torchvision import datasets, transforms\n",
    "\n",
    "from matplotlib import pyplot as plt\n",
    "from IPython.display import clear_output"
   ]
  },
  {
   "cell_type": "markdown",
   "metadata": {
    "id": "i5VkRn8eYCL3"
   },
   "source": [
    "### Загрузка данных"
   ]
  },
  {
   "cell_type": "markdown",
   "metadata": {
    "id": "w5-HED1XYV96"
   },
   "source": [
    "Код загрузки данных тот же, что был на занятии. Менять ничего не нужно."
   ]
  },
  {
   "cell_type": "code",
   "execution_count": 6,
   "metadata": {
    "id": "-31e0aCCUnss"
   },
   "outputs": [
    {
     "name": "stdout",
     "output_type": "stream",
     "text": [
      "Files already downloaded and verified\n",
      "Files already downloaded and verified\n"
     ]
    }
   ],
   "source": [
    "# загружаем датасет из torchvision\n",
    "train_data = datasets.CIFAR10(root=\"./cifar10_data\", train=True, download=True, transform=transforms.ToTensor())\n",
    "test_data = datasets.CIFAR10(root=\"./cifar10_data\", train=False, download=True, transform=transforms.ToTensor())\n",
    "\n",
    "# делим тренировочную часть на train и val\n",
    "\n",
    "# в тренировочную выборку отнесем 80% всех картинок\n",
    "train_size = int(len(train_data) * 0.8)\n",
    "# в валидационную — остальные 20%\n",
    "val_size = len(train_data) - train_size\n",
    "\n",
    "train_data, val_data = torch.utils.data.random_split(train_data, [train_size, val_size])\n",
    "\n",
    "# заводим даталоадеры, которые будут генерировать батчи\n",
    "train_loader = torch.utils.data.DataLoader(train_data, batch_size=64, shuffle=True)\n",
    "val_loader = torch.utils.data.DataLoader(val_data, batch_size=64, shuffle=False)\n",
    "test_loader = torch.utils.data.DataLoader(test_data, batch_size=64, shuffle=False)"
   ]
  },
  {
   "cell_type": "markdown",
   "metadata": {
    "id": "3xJCM2lZYjtR"
   },
   "source": [
    "Посмотрим на несколько картинок из датасета:"
   ]
  },
  {
   "cell_type": "code",
   "execution_count": 7,
   "metadata": {
    "id": "R7ZBNxsLYvMP"
   },
   "outputs": [
    {
     "data": {
      "image/png": "[encoded data removed]",
      "text/plain": [
       "<Figure size 3000x500 with 10 Axes>"
      ]
     },
     "metadata": {},
     "output_type": "display_data"
    }
   ],
   "source": [
    "# функция отрисовки картинок\n",
    "def show_images(images, labels):\n",
    "    f, axes= plt.subplots(1, 10, figsize=(30,5))\n",
    "\n",
    "    for i, axis in enumerate(axes):\n",
    "        # переводим картинку из тензора в numpy\n",
    "        img = images[i].numpy()\n",
    "        # переводим картинку в размерность (длина, ширина, цветовые каналы)\n",
    "        img = np.transpose(img, (1, 2, 0))\n",
    "\n",
    "        axes[i].imshow(img)\n",
    "        axes[i].set_title(labels[i].numpy())\n",
    "\n",
    "    plt.show()\n",
    "\n",
    "# получаем батч картинок\n",
    "for batch in train_loader:\n",
    "    images, labels = batch\n",
    "    break\n",
    "\n",
    "show_images(images, labels)"
   ]
  },
  {
   "cell_type": "markdown",
   "metadata": {
    "id": "EAbF9VCHifUg"
   },
   "source": [
    "### Построение модели"
   ]
  },
  {
   "cell_type": "markdown",
   "metadata": {
    "id": "ZN-AYLsyUnsu"
   },
   "source": [
    "Ниже — ячейка для построения модели. Не стоит сразу делать большую и сложную модель с большим количеством слоев: такая сеть будет обучаться очень долго и, скорее всего, переобучится.\n",
    "\n",
    "Ваша основная задача – обучить модель и получить качество на отложенной (тестовой выборке) не менее 60% accuracy.\n",
    "\n",
    "__Внимание: ваша модель должна быть представлена именно переменной `model`.__"
   ]
  },
  {
   "cell_type": "markdown",
   "metadata": {
    "id": "QFaM1UeWaE4K"
   },
   "source": [
    "Идеи, что можно попробовать, чтобы улучшить результат сети:\n",
    "\n",
    "- попробовать разное количество сверточных и полносвязных слоев;\n",
    "- попробовать разное количество фильтров в сверточных слоях;\n",
    "- попробовать разное количество нейронов в скрытых полносвязных слоях;\n",
    "- попробовать добавить BatchNorm, как после полносвязных, так и после сверточных слоев. Обратите внимание, что для сверточных слоев используется [nn.BatchNorm2d](https://pytorch.org/docs/stable/generated/torch.nn.BatchNorm2d.html). Аргумент num_features равен количеству фильтров (out_channels) сверточного слоя;\n",
    "- попробовать добавить/убрать max_pooling;\n",
    "- поменять learning_rate;\n",
    "- обучать сеть большее количество эпох.\n",
    "\n",
    "Если ваша модель переобучается (метрика на валидации нацинает становиться хуже), попробуйте уменьшить количество параметров модели. Если модель не переобучается, но показывает плохой результат, попробуйте увеличить количество параметров модели."
   ]
  },
  {
   "cell_type": "code",
   "execution_count": 8,
   "metadata": {},
   "outputs": [
    {
     "name": "stdout",
     "output_type": "stream",
     "text": [
      "\u001b[1;31mInit signature:\u001b[0m\n",
      "\u001b[0mnn\u001b[0m\u001b[1;33m.\u001b[0m\u001b[0mBatchNorm2d\u001b[0m\u001b[1;33m(\u001b[0m\u001b[1;33m\n",
      "\u001b[0m    \u001b[0mnum_features\u001b[0m\u001b[1;33m:\u001b[0m \u001b[0mint\u001b[0m\u001b[1;33m,\u001b[0m\u001b[1;33m\n",
      "\u001b[0m    \u001b[0meps\u001b[0m\u001b[1;33m:\u001b[0m \u001b[0mfloat\u001b[0m \u001b[1;33m=\u001b[0m \u001b[1;36m1e-05\u001b[0m\u001b[1;33m,\u001b[0m\u001b[1;33m\n",
      "\u001b[0m    \u001b[0mmomentum\u001b[0m\u001b[1;33m:\u001b[0m \u001b[0mOptional\u001b[0m\u001b[1;33m[\u001b[0m\u001b[0mfloat\u001b[0m\u001b[1;33m]\u001b[0m \u001b[1;33m=\u001b[0m \u001b[1;36m0.1\u001b[0m\u001b[1;33m,\u001b[0m\u001b[1;33m\n",
      "\u001b[0m    \u001b[0maffine\u001b[0m\u001b[1;33m:\u001b[0m \u001b[0mbool\u001b[0m \u001b[1;33m=\u001b[0m \u001b[1;32mTrue\u001b[0m\u001b[1;33m,\u001b[0m\u001b[1;33m\n",
      "\u001b[0m    \u001b[0mtrack_running_stats\u001b[0m\u001b[1;33m:\u001b[0m \u001b[0mbool\u001b[0m \u001b[1;33m=\u001b[0m \u001b[1;32mTrue\u001b[0m\u001b[1;33m,\u001b[0m\u001b[1;33m\n",
      "\u001b[0m    \u001b[0mdevice\u001b[0m\u001b[1;33m=\u001b[0m\u001b[1;32mNone\u001b[0m\u001b[1;33m,\u001b[0m\u001b[1;33m\n",
      "\u001b[0m    \u001b[0mdtype\u001b[0m\u001b[1;33m=\u001b[0m\u001b[1;32mNone\u001b[0m\u001b[1;33m,\u001b[0m\u001b[1;33m\n",
      "\u001b[0m\u001b[1;33m)\u001b[0m \u001b[1;33m->\u001b[0m \u001b[1;32mNone\u001b[0m\u001b[1;33m\u001b[0m\u001b[1;33m\u001b[0m\u001b[0m\n",
      "\u001b[1;31mDocstring:\u001b[0m     \n",
      "Applies Batch Normalization over a 4D input.\n",
      "\n",
      "4D is a mini-batch of 2D inputs\n",
      "with additional channel dimension. Method described in the paper\n",
      "`Batch Normalization: Accelerating Deep Network Training by Reducing\n",
      "Internal Covariate Shift <https://arxiv.org/abs/1502.03167>`__ .\n",
      "\n",
      ".. math::\n",
      "\n",
      "    y = \\frac{x - \\mathrm{E}[x]}{ \\sqrt{\\mathrm{Var}[x] + \\epsilon}} * \\gamma + \\beta\n",
      "\n",
      "The mean and standard-deviation are calculated per-dimension over\n",
      "the mini-batches and :math:`\\gamma` and :math:`\\beta` are learnable parameter vectors\n",
      "of size `C` (where `C` is the input size). By default, the elements of :math:`\\gamma` are set\n",
      "to 1 and the elements of :math:`\\beta` are set to 0. At train time in the forward pass, the\n",
      "standard-deviation is calculated via the biased estimator, equivalent to\n",
      "``torch.var(input, unbiased=False)``. However, the value stored in the moving average of the\n",
      "standard-deviation is calculated via the unbiased  estimator, equivalent to\n",
      "``torch.var(input, unbiased=True)``.\n",
      "\n",
      "Also by default, during training this layer keeps running estimates of its\n",
      "computed mean and variance, which are then used for normalization during\n",
      "evaluation. The running estimates are kept with a default :attr:`momentum`\n",
      "of 0.1.\n",
      "\n",
      "If :attr:`track_running_stats` is set to ``False``, this layer then does not\n",
      "keep running estimates, and batch statistics are instead used during\n",
      "evaluation time as well.\n",
      "\n",
      ".. note::\n",
      "    This :attr:`momentum` argument is different from one used in optimizer\n",
      "    classes and the conventional notion of momentum. Mathematically, the\n",
      "    update rule for running statistics here is\n",
      "    :math:`\\hat{x}_\\text{new} = (1 - \\text{momentum}) \\times \\hat{x} + \\text{momentum} \\times x_t`,\n",
      "    where :math:`\\hat{x}` is the estimated statistic and :math:`x_t` is the\n",
      "    new observed value.\n",
      "\n",
      "Because the Batch Normalization is done over the `C` dimension, computing statistics\n",
      "on `(N, H, W)` slices, it's common terminology to call this Spatial Batch Normalization.\n",
      "\n",
      "Args:\n",
      "    num_features: :math:`C` from an expected input of size\n",
      "        :math:`(N, C, H, W)`\n",
      "    eps: a value added to the denominator for numerical stability.\n",
      "        Default: 1e-5\n",
      "    momentum: the value used for the running_mean and running_var\n",
      "        computation. Can be set to ``None`` for cumulative moving average\n",
      "        (i.e. simple average). Default: 0.1\n",
      "    affine: a boolean value that when set to ``True``, this module has\n",
      "        learnable affine parameters. Default: ``True``\n",
      "    track_running_stats: a boolean value that when set to ``True``, this\n",
      "        module tracks the running mean and variance, and when set to ``False``,\n",
      "        this module does not track such statistics, and initializes statistics\n",
      "        buffers :attr:`running_mean` and :attr:`running_var` as ``None``.\n",
      "        When these buffers are ``None``, this module always uses batch statistics.\n",
      "        in both training and eval modes. Default: ``True``\n",
      "\n",
      "Shape:\n",
      "    - Input: :math:`(N, C, H, W)`\n",
      "    - Output: :math:`(N, C, H, W)` (same shape as input)\n",
      "\n",
      "Examples::\n",
      "\n",
      "    >>> # With Learnable Parameters\n",
      "    >>> m = nn.BatchNorm2d(100)\n",
      "    >>> # Without Learnable Parameters\n",
      "    >>> m = nn.BatchNorm2d(100, affine=False)\n",
      "    >>> input = torch.randn(20, 100, 35, 45)\n",
      "    >>> output = m(input)\n",
      "\u001b[1;31mInit docstring:\u001b[0m Initialize internal Module state, shared by both nn.Module and ScriptModule.\n",
      "\u001b[1;31mFile:\u001b[0m           c:\\users\\iteti\\anaconda3\\envs\\introdl\\lib\\site-packages\\torch\\nn\\modules\\batchnorm.py\n",
      "\u001b[1;31mType:\u001b[0m           type\n",
      "\u001b[1;31mSubclasses:\u001b[0m     "
     ]
    }
   ],
   "source": [
    "nn.BatchNorm2d?"
   ]
  },
  {
   "cell_type": "code",
   "execution_count": 9,
   "metadata": {
    "id": "3UyozaPnUnsu"
   },
   "outputs": [],
   "source": [
    "# ВАШ КОД ЗДЕСЬ\n",
    "# объявите класс сверточной нейросети\n",
    "\n",
    "class ConvNet(nn.Module):\n",
    "    def __init__(self):\n",
    "        super().__init__()\n",
    "\n",
    "        # Define the convolutional layers with batch normalization\n",
    "        self.conv1 = nn.Conv2d(in_channels=3, out_channels=16, kernel_size=(3, 3), padding=1) # 3*32*32 -> 16*32*32\n",
    "        self.bn1 = nn.BatchNorm2d(16)\n",
    "        self.pool1 = nn.MaxPool2d((2, 2)) # 16*32*32 -> 16*16*16\n",
    "\n",
    "        self.conv2 = nn.Conv2d(in_channels=16, out_channels=32, kernel_size=(3, 3), padding=1) # 16*16*16 -> 32*16*16\n",
    "        self.bn2 = nn.BatchNorm2d(32)\n",
    "        self.pool2 = nn.MaxPool2d((2, 2)) # 32*16*16 -> 32*8*8\n",
    "\n",
    "        self.conv3 = nn.Conv2d(in_channels=32, out_channels=64, kernel_size=(3, 3), padding=1) # 32*8*8 -> 64*8*8\n",
    "        self.bn3 = nn.BatchNorm2d(64)\n",
    "        self.pool3 = nn.MaxPool2d((2, 2)) # 64*8*8 -> 64*4*4\n",
    "\n",
    "        # Define the fully connected layers\n",
    "        self.flatten = nn.Flatten()\n",
    "        self.fc1 = nn.Linear(64 * 4 * 4, 64) # Reduce the size of fully connected layers\n",
    "        self.fc2 = nn.Linear(64, 10)\n",
    "\n",
    "    def forward(self, x):\n",
    "        # Forward pass through the network\n",
    "        x = self.pool1(F.relu(self.bn1(self.conv1(x))))\n",
    "        x = self.pool2(F.relu(self.bn2(self.conv2(x))))\n",
    "        x = self.pool3(F.relu(self.bn3(self.conv3(x))))\n",
    "        x = self.flatten(x)\n",
    "        x = F.relu(self.fc1(x))\n",
    "        x = self.fc2(x)\n",
    "        return x\n"
   ]
  },
  {
   "cell_type": "code",
   "execution_count": 10,
   "metadata": {
    "id": "MFpILkiXhEz-"
   },
   "outputs": [],
   "source": [
    "model = ConvNet()"
   ]
  },
  {
   "cell_type": "markdown",
   "metadata": {
    "id": "1reimxeCh9BA"
   },
   "source": [
    "Ячейка ниже проверяет, доступен ли GPU и если да, то переносит нейросеть на GPU."
   ]
  },
  {
   "cell_type": "code",
   "execution_count": 11,
   "metadata": {
    "id": "keaqEK3ug9rd"
   },
   "outputs": [],
   "source": [
    "device = torch.device(\"cuda\" if torch.cuda.is_available() else \"cpu\")\n",
    "model = model.to(device)"
   ]
  },
  {
   "cell_type": "markdown",
   "metadata": {
    "id": "iKghv45uiEqo"
   },
   "source": [
    "### Обучение модели"
   ]
  },
  {
   "cell_type": "markdown",
   "metadata": {
    "id": "b2onmgyzUntQ"
   },
   "source": [
    "Функция обучения сети (ее менять не нужно).\n",
    "\n",
    "Функция выводит текущие значения лосса и accuracy на train выборке каждые 50 итераций обучения. Также после каждой эпохи считается и выводится лосс и accuracy на val выборке. По этим значениям можно понимать, как хорошо обучается ваша модель."
   ]
  },
  {
   "cell_type": "code",
   "execution_count": 12,
   "metadata": {
    "id": "jYsRSxVjUntR"
   },
   "outputs": [],
   "source": [
    "def evaluate(model, dataloader, loss_fn):\n",
    "\n",
    "    losses = []\n",
    "\n",
    "    num_correct = 0\n",
    "    num_elements = 0\n",
    "\n",
    "    for i, batch in enumerate(dataloader):\n",
    "\n",
    "        # так получаем текущий батч\n",
    "        X_batch, y_batch = batch\n",
    "        num_elements += len(y_batch)\n",
    "\n",
    "        with torch.no_grad():\n",
    "            logits = model(X_batch.to(device))\n",
    "\n",
    "            loss = loss_fn(logits, y_batch.to(device))\n",
    "            losses.append(loss.item())\n",
    "\n",
    "            y_pred = torch.argmax(logits, dim=1)\n",
    "\n",
    "            num_correct += torch.sum(y_pred.cpu() == y_batch)\n",
    "\n",
    "    accuracy = num_correct / num_elements\n",
    "\n",
    "    return accuracy.numpy(), np.mean(losses)\n",
    "\n",
    "def train(model, loss_fn, optimizer, n_epoch=3):\n",
    "\n",
    "    # цикл обучения сети\n",
    "    for epoch in range(n_epoch):\n",
    "\n",
    "        print(\"Epoch:\", epoch+1)\n",
    "\n",
    "        model.train(True)\n",
    "\n",
    "        running_losses = []\n",
    "        running_accuracies = []\n",
    "        for i, batch in enumerate(train_loader):\n",
    "            # так получаем текущий батч\n",
    "            X_batch, y_batch = batch\n",
    "\n",
    "            # forward pass (получение ответов на батч картинок)\n",
    "            logits = model(X_batch.to(device))\n",
    "\n",
    "            # вычисление лосса от выданных сетью ответов и правильных ответов на батч\n",
    "            loss = loss_fn(logits, y_batch.to(device))\n",
    "            running_losses.append(loss.item())\n",
    "\n",
    "            loss.backward() # backpropagation (вычисление градиентов)\n",
    "            optimizer.step() # обновление весов сети\n",
    "            optimizer.zero_grad() # обнуляем веса\n",
    "\n",
    "            # вычислим accuracy на текущем train батче\n",
    "            model_answers = torch.argmax(logits, dim=1)\n",
    "            train_accuracy = torch.sum(y_batch == model_answers.cpu()) / len(y_batch)\n",
    "            running_accuracies.append(train_accuracy)\n",
    "\n",
    "            # Логирование результатов\n",
    "            if (i+1) % 100 == 0:\n",
    "                print(\"Средние train лосс и accuracy на последних 50 итерациях:\",\n",
    "                      np.mean(running_losses), np.mean(running_accuracies), end='\\n')\n",
    "\n",
    "        # после каждой эпохи получаем метрику качества на валидационной выборке\n",
    "        model.train(False)\n",
    "\n",
    "        val_accuracy, val_loss = evaluate(model, val_loader, loss_fn=loss_fn)\n",
    "        print(\"Эпоха {}/{}: val лосс и accuracy:\".format(epoch+1, n_epoch,),\n",
    "                      val_loss, val_accuracy, end='\\n')\n",
    "\n",
    "    return model"
   ]
  },
  {
   "cell_type": "markdown",
   "metadata": {
    "id": "qEBr1qTOjfo3"
   },
   "source": [
    "Запускаем обучение."
   ]
  },
  {
   "cell_type": "code",
   "execution_count": 13,
   "metadata": {
    "id": "KYqzqj02jZly"
   },
   "outputs": [],
   "source": [
    "# снова объявим модель\n",
    "model = ConvNet()\n",
    "device = torch.device(\"cuda\" if torch.cuda.is_available() else \"cpu\")\n",
    "model = model.to(device)\n",
    "\n",
    "# выбираем функцию потерь\n",
    "loss_fn = torch.nn.CrossEntropyLoss()\n",
    "\n",
    "# выбираем алгоритм оптимизации и learning_rate.\n",
    "# вы можете экспериментировать с разными значениями learning_rate\n",
    "learning_rate = 1e-3\n",
    "optimizer = torch.optim.Adam(model.parameters(), lr=learning_rate)"
   ]
  },
  {
   "cell_type": "code",
   "execution_count": 14,
   "metadata": {
    "id": "QMgy5EGsnEZt"
   },
   "outputs": [
    {
     "name": "stdout",
     "output_type": "stream",
     "text": [
      "Epoch: 1\n",
      "Средние train лосс и accuracy на последних 50 итерациях: 1.6900518929958344 0.3778125\n",
      "Средние train лосс и accuracy на последних 50 итерациях: 1.545232781767845 0.43257812\n",
      "Средние train лосс и accuracy на последних 50 итерациях: 1.4657486367225647 0.46333334\n",
      "Средние train лосс и accuracy на последних 50 итерациях: 1.413606444299221 0.48535156\n",
      "Средние train лосс и accuracy на последних 50 итерациях: 1.3673037388324738 0.50478125\n",
      "Средние train лосс и accuracy на последних 50 итерациях: 1.3277644648154576 0.5198177\n",
      "Эпоха 1/3: val лосс и accuracy: 1.2043277495985578 0.5631\n",
      "Epoch: 2\n",
      "Средние train лосс и accuracy на последних 50 итерациях: 1.0548235589265824 0.6284375\n",
      "Средние train лосс и accuracy на последних 50 итерациях: 1.0300537687540054 0.63242185\n",
      "Средние train лосс и accuracy на последних 50 итерациях: 1.0266079797347387 0.6371875\n",
      "Средние train лосс и accuracy на последних 50 итерациях: 1.0070533122122287 0.64390624\n",
      "Средние train лосс и accuracy на последних 50 итерациях: 0.9978312997817993 0.64775\n",
      "Средние train лосс и accuracy на последних 50 итерациях: 0.9878314709663392 0.6507292\n",
      "Эпоха 2/3: val лосс и accuracy: 1.064282796565135 0.6263\n",
      "Epoch: 3\n",
      "Средние train лосс и accuracy на последних 50 итерациях: 0.8618251597881317 0.6979687\n",
      "Средние train лосс и accuracy на последних 50 итерациях: 0.8645514807105065 0.69453126\n",
      "Средние train лосс и accuracy на последних 50 итерациях: 0.8644189278284709 0.6950521\n",
      "Средние train лосс и accuracy на последних 50 итерациях: 0.8615021987259388 0.69566405\n",
      "Средние train лосс и accuracy на последних 50 итерациях: 0.8608641331195831 0.696625\n",
      "Средние train лосс и accuracy на последних 50 итерациях: 0.8586038567622503 0.6970052\n",
      "Эпоха 3/3: val лосс и accuracy: 1.0965008185167981 0.623\n"
     ]
    }
   ],
   "source": [
    "# запустим обучение модели\n",
    "# параметр n_epoch можно варьировать\n",
    "model = train(model, loss_fn, optimizer, n_epoch=3)"
   ]
  },
  {
   "cell_type": "markdown",
   "metadata": {
    "id": "J-0bg_d9mQJc"
   },
   "source": [
    "### Получение метрики качества на тестовой выборке"
   ]
  },
  {
   "cell_type": "code",
   "execution_count": 15,
   "metadata": {
    "id": "5fdsfmmGUntS"
   },
   "outputs": [
    {
     "name": "stdout",
     "output_type": "stream",
     "text": [
      "Accuracy на тесте 0.6149\n"
     ]
    }
   ],
   "source": [
    "test_accuracy, _ = evaluate(model, test_loader, loss_fn)\n",
    "print('Accuracy на тесте', test_accuracy)"
   ]
  },
  {
   "cell_type": "markdown",
   "metadata": {
    "id": "mTWg3rx7oigY"
   },
   "source": [
    "Вы можете экспериментировать с разным устройством архитектуры нейросети и запускать ее обучение и проверять accuracy на тесте с помощью трех ячеек выше. Когда вы получили нужное значение accuracy на тесте, можете сдавать задание на Я.Контест."
   ]
  },
  {
   "cell_type": "markdown",
   "metadata": {
    "id": "s1lUTTanUntT"
   },
   "source": [
    "Проверка, что необходимые пороги пройдены:"
   ]
  },
  {
   "cell_type": "code",
   "execution_count": 16,
   "metadata": {
    "id": "h0D82xfkUntT"
   },
   "outputs": [
    {
     "name": "stdout",
     "output_type": "stream",
     "text": [
      "Качество на тесте выше 0.6, 1 балл\n"
     ]
    }
   ],
   "source": [
    "if test_accuracy <= 0.5:\n",
    "    print(\"Качество на тесте ниже 0.5, 0 баллов\")\n",
    "elif test_accuracy < 0.6:\n",
    "    print(\"Качество на тесте между 0.5 и 0.6, 0.5 баллов\")\n",
    "elif test_accuracy >= 0.6:\n",
    "    print(\"Качество на тесте выше 0.6, 1 балл\")"
   ]
  },
  {
   "cell_type": "markdown",
   "metadata": {
    "id": "jaaib09bUntU"
   },
   "source": [
    "### Сдача задания\n",
    "В ячейке ниже реализован код для получения файла с обученной сетью. Запустите эти ячейки. Полученный файл model.pth отправьте в Я.Контест"
   ]
  },
  {
   "cell_type": "code",
   "execution_count": 17,
   "metadata": {
    "id": "gnLPac1NUntV"
   },
   "outputs": [],
   "source": [
    "model.eval()\n",
    "x = torch.randn((1, 3, 32, 32))\n",
    "torch.jit.save(torch.jit.trace(model.cpu(), (x)), \"model.pth\")"
   ]
  },
  {
   "cell_type": "markdown",
   "metadata": {
    "id": "szdg0viDUntW"
   },
   "source": [
    "Теперь у вас во вкладке \"файлы\" лежит файл model.pth. Загрузите этот файл в Я.Контест. И на этом задание завершено. Поздравляем!"
   ]
  }
 ],
 "metadata": {
  "accelerator": "GPU",
  "colab": {
   "provenance": []
  },
  "kernelspec": {
   "display_name": "IntroDL",
   "language": "python",
   "name": "python3"
  },
  "language_info": {
   "codemirror_mode": {
    "name": "ipython",
    "version": 3
   },
   "file_extension": ".py",
   "mimetype": "text/x-python",
   "name": "python",
   "nbconvert_exporter": "python",
   "pygments_lexer": "ipython3",
   "version": "3.12.5"
  }
 },
 "nbformat": 4,
 "nbformat_minor": 0
}
