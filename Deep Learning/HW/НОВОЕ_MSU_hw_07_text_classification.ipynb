{
  "nbformat": 4,
  "nbformat_minor": 0,
  "metadata": {
    "colab": {
      "provenance": [],
      "gpuType": "T4"
    },
    "kernelspec": {
      "name": "python3",
      "display_name": "Python 3"
    },
    "language_info": {
      "name": "python"
    },
    "accelerator": "GPU"
  },
  "cells": [
    {
      "cell_type": "markdown",
      "source": [
        "# Домашнее задание. Нейросетевая классификация текстов\n",
        "\n",
        "В этом домашнем задании вам предстоит самостоятельно решить задачу классификации текстов. Вы будете классифицировать тксты писателей по авторству. Всего 8 разных авторов.\n",
        "\n",
        "Скачаем датасет:"
      ],
      "metadata": {
        "id": "d0ADTojbpfLt"
      }
    },
    {
      "cell_type": "code",
      "source": [
        "!wget -O train_authors.csv https://raw.githubusercontent.com/MSUcourses/Data-Analysis-with-Python/main/Deep%20Learning/Files/train_authors_new.csv"
      ],
      "metadata": {
        "colab": {
          "base_uri": "https://localhost:8080/"
        },
        "id": "VRyCeJprfreo",
        "outputId": "4d1c9653-57bc-411e-e474-ff70d81f8177"
      },
      "execution_count": null,
      "outputs": [
        {
          "output_type": "stream",
          "name": "stdout",
          "text": [
            "--2024-03-31 20:44:01--  https://raw.githubusercontent.com/MSUcourses/Data-Analysis-with-Python/main/Deep%20Learning/Files/train_authors_new.csv\n",
            "Resolving raw.githubusercontent.com (raw.githubusercontent.com)... 185.199.111.133, 185.199.108.133, 185.199.109.133, ...\n",
            "Connecting to raw.githubusercontent.com (raw.githubusercontent.com)|185.199.111.133|:443... connected.\n",
            "HTTP request sent, awaiting response... 200 OK\n",
            "Length: 5163531 (4.9M) [text/plain]\n",
            "Saving to: ‘train_authors.csv’\n",
            "\n",
            "train_authors.csv   100%[===================>]   4.92M  --.-KB/s    in 0.02s   \n",
            "\n",
            "2024-03-31 20:44:02 (200 MB/s) - ‘train_authors.csv’ saved [5163531/5163531]\n",
            "\n"
          ]
        }
      ]
    },
    {
      "cell_type": "code",
      "source": [
        "!wget -O test_authors.csv https://raw.githubusercontent.com/MSUcourses/Data-Analysis-with-Python/main/Deep%20Learning/Files/test_authors_new.csv"
      ],
      "metadata": {
        "colab": {
          "base_uri": "https://localhost:8080/"
        },
        "id": "WN8anvmnfgVp",
        "outputId": "3b8a4578-6453-4bc0-e6c6-1c40e666b365"
      },
      "execution_count": null,
      "outputs": [
        {
          "output_type": "stream",
          "name": "stdout",
          "text": [
            "--2024-03-31 20:44:09--  https://raw.githubusercontent.com/MSUcourses/Data-Analysis-with-Python/main/Deep%20Learning/Files/test_authors_new.csv\n",
            "Resolving raw.githubusercontent.com (raw.githubusercontent.com)... 185.199.108.133, 185.199.109.133, 185.199.110.133, ...\n",
            "Connecting to raw.githubusercontent.com (raw.githubusercontent.com)|185.199.108.133|:443... connected.\n",
            "HTTP request sent, awaiting response... 200 OK\n",
            "Length: 961703 (939K) [text/plain]\n",
            "Saving to: ‘test_authors.csv’\n",
            "\n",
            "test_authors.csv    100%[===================>] 939.16K  --.-KB/s    in 0.005s  \n",
            "\n",
            "2024-03-31 20:44:10 (195 MB/s) - ‘test_authors.csv’ saved [961703/961703]\n",
            "\n"
          ]
        }
      ]
    },
    {
      "cell_type": "markdown",
      "source": [
        "Импортируем необходимые библиотеки:"
      ],
      "metadata": {
        "id": "rh9ZXSeCpng9"
      }
    },
    {
      "cell_type": "code",
      "source": [
        "import torch\n",
        "import torch.nn as nn\n",
        "from torch.utils.data import Dataset, DataLoader\n",
        "\n",
        "import numpy as np\n",
        "import matplotlib.pyplot as plt\n",
        "\n",
        "from tqdm.auto import tqdm\n",
        "from nltk.tokenize import word_tokenize\n",
        "from sklearn.model_selection import train_test_split\n",
        "import nltk\n",
        "from tqdm import tqdm_notebook\n",
        "import torch.nn as nn                                                             # тут все блоки нейронных сетей, слои\n",
        "import torch.nn.functional as F\n",
        "\n",
        "from collections import Counter\n",
        "from typing import List\n",
        "import string\n",
        "\n",
        "import seaborn\n",
        "seaborn.set(palette='summer')\n",
        "\n",
        "# скачиваем нужный пакет данных для работы библиотеки nltk\n",
        "nltk.download('punkt')"
      ],
      "metadata": {
        "id": "XOJi16bLpd_O",
        "colab": {
          "base_uri": "https://localhost:8080/"
        },
        "outputId": "bbbe284f-c8b2-41ca-dde1-f47fc1eafed1"
      },
      "execution_count": null,
      "outputs": [
        {
          "output_type": "stream",
          "name": "stderr",
          "text": [
            "[nltk_data] Downloading package punkt to /root/nltk_data...\n",
            "[nltk_data]   Unzipping tokenizers/punkt.zip.\n"
          ]
        },
        {
          "output_type": "execute_result",
          "data": {
            "text/plain": [
              "True"
            ]
          },
          "metadata": {},
          "execution_count": 5
        }
      ]
    },
    {
      "cell_type": "code",
      "source": [
        "device = 'cuda' if torch.cuda.is_available() else 'cpu'\n",
        "device"
      ],
      "metadata": {
        "id": "adJC8ShFq9HM",
        "colab": {
          "base_uri": "https://localhost:8080/",
          "height": 35
        },
        "outputId": "dce3d5ce-3dec-48b4-85e7-24fd436cf9d8"
      },
      "execution_count": null,
      "outputs": [
        {
          "output_type": "execute_result",
          "data": {
            "text/plain": [
              "'cuda'"
            ],
            "application/vnd.google.colaboratory.intrinsic+json": {
              "type": "string"
            }
          },
          "metadata": {},
          "execution_count": 3
        }
      ]
    },
    {
      "cell_type": "markdown",
      "source": [
        "## Подготовка данных\n",
        "\n",
        "Загрузим даатсет и посмотрим на данные:"
      ],
      "metadata": {
        "id": "pwsfS1ENq5ig"
      }
    },
    {
      "cell_type": "code",
      "source": [
        "# Загрузим датасет\n",
        "import pandas as pd\n",
        "train_data = pd.read_csv('train_authors.csv')\n",
        "train_data.head()"
      ],
      "metadata": {
        "id": "qHLNWOfJqSfc",
        "colab": {
          "base_uri": "https://localhost:8080/",
          "height": 206
        },
        "outputId": "ac985c3c-9ffa-4141-ef5d-51b12bd1dfd0"
      },
      "execution_count": null,
      "outputs": [
        {
          "output_type": "execute_result",
          "data": {
            "text/plain": [
              "                                                text      label\n",
              "0  -Да, я поторопился. Капитан, примите мои извин...  Pratchett\n",
              "1  -Похороны по первому разряду! Довольно благоро...     Remark\n",
              "2  Третий округ штата Мэн настолько велик, что ег...       King\n",
              "3  В мире существуют миллиарды и миллиарды богов....  Pratchett\n",
              "4  Особенность историографии киевского периода со...     Akunin"
            ],
            "text/html": [
              "\n",
              "  <div id=\"df-b4253960-9552-4586-b910-b7bb2e13a725\" class=\"colab-df-container\">\n",
              "    <div>\n",
              "<style scoped>\n",
              "    .dataframe tbody tr th:only-of-type {\n",
              "        vertical-align: middle;\n",
              "    }\n",
              "\n",
              "    .dataframe tbody tr th {\n",
              "        vertical-align: top;\n",
              "    }\n",
              "\n",
              "    .dataframe thead th {\n",
              "        text-align: right;\n",
              "    }\n",
              "</style>\n",
              "<table border=\"1\" class=\"dataframe\">\n",
              "  <thead>\n",
              "    <tr style=\"text-align: right;\">\n",
              "      <th></th>\n",
              "      <th>text</th>\n",
              "      <th>label</th>\n",
              "    </tr>\n",
              "  </thead>\n",
              "  <tbody>\n",
              "    <tr>\n",
              "      <th>0</th>\n",
              "      <td>-Да, я поторопился. Капитан, примите мои извин...</td>\n",
              "      <td>Pratchett</td>\n",
              "    </tr>\n",
              "    <tr>\n",
              "      <th>1</th>\n",
              "      <td>-Похороны по первому разряду! Довольно благоро...</td>\n",
              "      <td>Remark</td>\n",
              "    </tr>\n",
              "    <tr>\n",
              "      <th>2</th>\n",
              "      <td>Третий округ штата Мэн настолько велик, что ег...</td>\n",
              "      <td>King</td>\n",
              "    </tr>\n",
              "    <tr>\n",
              "      <th>3</th>\n",
              "      <td>В мире существуют миллиарды и миллиарды богов....</td>\n",
              "      <td>Pratchett</td>\n",
              "    </tr>\n",
              "    <tr>\n",
              "      <th>4</th>\n",
              "      <td>Особенность историографии киевского периода со...</td>\n",
              "      <td>Akunin</td>\n",
              "    </tr>\n",
              "  </tbody>\n",
              "</table>\n",
              "</div>\n",
              "    <div class=\"colab-df-buttons\">\n",
              "\n",
              "  <div class=\"colab-df-container\">\n",
              "    <button class=\"colab-df-convert\" onclick=\"convertToInteractive('df-b4253960-9552-4586-b910-b7bb2e13a725')\"\n",
              "            title=\"Convert this dataframe to an interactive table.\"\n",
              "            style=\"display:none;\">\n",
              "\n",
              "  <svg xmlns=\"http://www.w3.org/2000/svg\" height=\"24px\" viewBox=\"0 -960 960 960\">\n",
              "    <path d=\"M120-120v-720h720v720H120Zm60-500h600v-160H180v160Zm220 220h160v-160H400v160Zm0 220h160v-160H400v160ZM180-400h160v-160H180v160Zm440 0h160v-160H620v160ZM180-180h160v-160H180v160Zm440 0h160v-160H620v160Z\"/>\n",
              "  </svg>\n",
              "    </button>\n",
              "\n",
              "  <style>\n",
              "    .colab-df-container {\n",
              "      display:flex;\n",
              "      gap: 12px;\n",
              "    }\n",
              "\n",
              "    .colab-df-convert {\n",
              "      background-color: #E8F0FE;\n",
              "      border: none;\n",
              "      border-radius: 50%;\n",
              "      cursor: pointer;\n",
              "      display: none;\n",
              "      fill: #1967D2;\n",
              "      height: 32px;\n",
              "      padding: 0 0 0 0;\n",
              "      width: 32px;\n",
              "    }\n",
              "\n",
              "    .colab-df-convert:hover {\n",
              "      background-color: #E2EBFA;\n",
              "      box-shadow: 0px 1px 2px rgba(60, 64, 67, 0.3), 0px 1px 3px 1px rgba(60, 64, 67, 0.15);\n",
              "      fill: #174EA6;\n",
              "    }\n",
              "\n",
              "    .colab-df-buttons div {\n",
              "      margin-bottom: 4px;\n",
              "    }\n",
              "\n",
              "    [theme=dark] .colab-df-convert {\n",
              "      background-color: #3B4455;\n",
              "      fill: #D2E3FC;\n",
              "    }\n",
              "\n",
              "    [theme=dark] .colab-df-convert:hover {\n",
              "      background-color: #434B5C;\n",
              "      box-shadow: 0px 1px 3px 1px rgba(0, 0, 0, 0.15);\n",
              "      filter: drop-shadow(0px 1px 2px rgba(0, 0, 0, 0.3));\n",
              "      fill: #FFFFFF;\n",
              "    }\n",
              "  </style>\n",
              "\n",
              "    <script>\n",
              "      const buttonEl =\n",
              "        document.querySelector('#df-b4253960-9552-4586-b910-b7bb2e13a725 button.colab-df-convert');\n",
              "      buttonEl.style.display =\n",
              "        google.colab.kernel.accessAllowed ? 'block' : 'none';\n",
              "\n",
              "      async function convertToInteractive(key) {\n",
              "        const element = document.querySelector('#df-b4253960-9552-4586-b910-b7bb2e13a725');\n",
              "        const dataTable =\n",
              "          await google.colab.kernel.invokeFunction('convertToInteractive',\n",
              "                                                    [key], {});\n",
              "        if (!dataTable) return;\n",
              "\n",
              "        const docLinkHtml = 'Like what you see? Visit the ' +\n",
              "          '<a target=\"_blank\" href=https://colab.research.google.com/notebooks/data_table.ipynb>data table notebook</a>'\n",
              "          + ' to learn more about interactive tables.';\n",
              "        element.innerHTML = '';\n",
              "        dataTable['output_type'] = 'display_data';\n",
              "        await google.colab.output.renderOutput(dataTable, element);\n",
              "        const docLink = document.createElement('div');\n",
              "        docLink.innerHTML = docLinkHtml;\n",
              "        element.appendChild(docLink);\n",
              "      }\n",
              "    </script>\n",
              "  </div>\n",
              "\n",
              "\n",
              "<div id=\"df-1f51c58f-02e8-45e4-9d1f-99a39bc3130e\">\n",
              "  <button class=\"colab-df-quickchart\" onclick=\"quickchart('df-1f51c58f-02e8-45e4-9d1f-99a39bc3130e')\"\n",
              "            title=\"Suggest charts\"\n",
              "            style=\"display:none;\">\n",
              "\n",
              "<svg xmlns=\"http://www.w3.org/2000/svg\" height=\"24px\"viewBox=\"0 0 24 24\"\n",
              "     width=\"24px\">\n",
              "    <g>\n",
              "        <path d=\"M19 3H5c-1.1 0-2 .9-2 2v14c0 1.1.9 2 2 2h14c1.1 0 2-.9 2-2V5c0-1.1-.9-2-2-2zM9 17H7v-7h2v7zm4 0h-2V7h2v10zm4 0h-2v-4h2v4z\"/>\n",
              "    </g>\n",
              "</svg>\n",
              "  </button>\n",
              "\n",
              "<style>\n",
              "  .colab-df-quickchart {\n",
              "      --bg-color: #E8F0FE;\n",
              "      --fill-color: #1967D2;\n",
              "      --hover-bg-color: #E2EBFA;\n",
              "      --hover-fill-color: #174EA6;\n",
              "      --disabled-fill-color: #AAA;\n",
              "      --disabled-bg-color: #DDD;\n",
              "  }\n",
              "\n",
              "  [theme=dark] .colab-df-quickchart {\n",
              "      --bg-color: #3B4455;\n",
              "      --fill-color: #D2E3FC;\n",
              "      --hover-bg-color: #434B5C;\n",
              "      --hover-fill-color: #FFFFFF;\n",
              "      --disabled-bg-color: #3B4455;\n",
              "      --disabled-fill-color: #666;\n",
              "  }\n",
              "\n",
              "  .colab-df-quickchart {\n",
              "    background-color: var(--bg-color);\n",
              "    border: none;\n",
              "    border-radius: 50%;\n",
              "    cursor: pointer;\n",
              "    display: none;\n",
              "    fill: var(--fill-color);\n",
              "    height: 32px;\n",
              "    padding: 0;\n",
              "    width: 32px;\n",
              "  }\n",
              "\n",
              "  .colab-df-quickchart:hover {\n",
              "    background-color: var(--hover-bg-color);\n",
              "    box-shadow: 0 1px 2px rgba(60, 64, 67, 0.3), 0 1px 3px 1px rgba(60, 64, 67, 0.15);\n",
              "    fill: var(--button-hover-fill-color);\n",
              "  }\n",
              "\n",
              "  .colab-df-quickchart-complete:disabled,\n",
              "  .colab-df-quickchart-complete:disabled:hover {\n",
              "    background-color: var(--disabled-bg-color);\n",
              "    fill: var(--disabled-fill-color);\n",
              "    box-shadow: none;\n",
              "  }\n",
              "\n",
              "  .colab-df-spinner {\n",
              "    border: 2px solid var(--fill-color);\n",
              "    border-color: transparent;\n",
              "    border-bottom-color: var(--fill-color);\n",
              "    animation:\n",
              "      spin 1s steps(1) infinite;\n",
              "  }\n",
              "\n",
              "  @keyframes spin {\n",
              "    0% {\n",
              "      border-color: transparent;\n",
              "      border-bottom-color: var(--fill-color);\n",
              "      border-left-color: var(--fill-color);\n",
              "    }\n",
              "    20% {\n",
              "      border-color: transparent;\n",
              "      border-left-color: var(--fill-color);\n",
              "      border-top-color: var(--fill-color);\n",
              "    }\n",
              "    30% {\n",
              "      border-color: transparent;\n",
              "      border-left-color: var(--fill-color);\n",
              "      border-top-color: var(--fill-color);\n",
              "      border-right-color: var(--fill-color);\n",
              "    }\n",
              "    40% {\n",
              "      border-color: transparent;\n",
              "      border-right-color: var(--fill-color);\n",
              "      border-top-color: var(--fill-color);\n",
              "    }\n",
              "    60% {\n",
              "      border-color: transparent;\n",
              "      border-right-color: var(--fill-color);\n",
              "    }\n",
              "    80% {\n",
              "      border-color: transparent;\n",
              "      border-right-color: var(--fill-color);\n",
              "      border-bottom-color: var(--fill-color);\n",
              "    }\n",
              "    90% {\n",
              "      border-color: transparent;\n",
              "      border-bottom-color: var(--fill-color);\n",
              "    }\n",
              "  }\n",
              "</style>\n",
              "\n",
              "  <script>\n",
              "    async function quickchart(key) {\n",
              "      const quickchartButtonEl =\n",
              "        document.querySelector('#' + key + ' button');\n",
              "      quickchartButtonEl.disabled = true;  // To prevent multiple clicks.\n",
              "      quickchartButtonEl.classList.add('colab-df-spinner');\n",
              "      try {\n",
              "        const charts = await google.colab.kernel.invokeFunction(\n",
              "            'suggestCharts', [key], {});\n",
              "      } catch (error) {\n",
              "        console.error('Error during call to suggestCharts:', error);\n",
              "      }\n",
              "      quickchartButtonEl.classList.remove('colab-df-spinner');\n",
              "      quickchartButtonEl.classList.add('colab-df-quickchart-complete');\n",
              "    }\n",
              "    (() => {\n",
              "      let quickchartButtonEl =\n",
              "        document.querySelector('#df-1f51c58f-02e8-45e4-9d1f-99a39bc3130e button');\n",
              "      quickchartButtonEl.style.display =\n",
              "        google.colab.kernel.accessAllowed ? 'block' : 'none';\n",
              "    })();\n",
              "  </script>\n",
              "</div>\n",
              "    </div>\n",
              "  </div>\n"
            ],
            "application/vnd.google.colaboratory.intrinsic+json": {
              "type": "dataframe",
              "variable_name": "train_data",
              "summary": "{\n  \"name\": \"train_data\",\n  \"rows\": 1651,\n  \"fields\": [\n    {\n      \"column\": \"text\",\n      \"properties\": {\n        \"dtype\": \"string\",\n        \"num_unique_values\": 1585,\n        \"samples\": [\n          \"-\\u041c\\u043d\\u0435 \\u043c\\u043e\\u0436\\u043d\\u043e. \\u042f \\u0432\\u0441\\u0435\\u043c \\u0433\\u043e\\u0432\\u043e\\u0440\\u0438\\u043b\\u0430, \\u0447\\u0442\\u043e \\u044f \\u0442\\u0432\\u043e\\u044f \\u0434\\u043e\\u0447\\u043a\\u0430. \\u0418 \\u043c\\u0435\\u043d\\u044f \\u043f\\u0443\\u0441\\u0442\\u0438\\u043b\\u0438.\\n-\\u0422\\u044b \\u0437\\u043d\\u0430\\u0435\\u0448\\u044c, \\u0447\\u0442\\u043e \\u043f\\u043e\\u043b\\u044c\\u0437\\u043e\\u0432\\u0430\\u0442\\u044c\\u0441\\u044f \\u0437\\u043d\\u0430\\u043a\\u043e\\u043c\\u0441\\u0442\\u0432\\u0430\\u043c\\u0438 \\u0434\\u043b\\u044f \\u043b\\u0438\\u0447\\u043d\\u044b\\u0445 \\u0446\\u0435\\u043b\\u0435\\u0439 \\u043d\\u0435\\u0445\\u043e\\u0440\\u043e\\u0448\\u043e?\\n-\\u041d\\u043e \\u0432\\u0435\\u0434\\u044c, \\u043f\\u0430\\u043f\\u0430, \\u043c\\u0430\\u043b\\u0435\\u043d\\u044c\\u043a\\u043e\\u043c\\u0443 \\u0411\\u0440\\u043e\\u043d\\u0442\\u0435, \\u043c\\u043e\\u0436\\u0435\\u0442 \\u0431\\u044b\\u0442\\u044c, \\u0441\\u043a\\u0443\\u0447\\u043d\\u043e \\u0431\\u0435\\u0437 \\u0434\\u0435\\u0442\\u0435\\u0439, \\u0432\\u043e\\u0442 \\u044f \\u0438 \\u043f\\u0440\\u0438\\u0448\\u043b\\u0430.\\n\\u042f \\u0442\\u043e\\u043b\\u044c\\u043a\\u043e \\u0440\\u0443\\u043a\\u043e\\u0439 \\u043c\\u0430\\u0445\\u043d\\u0443\\u043b. \\u0423 \\u043c\\u0435\\u043d\\u044f \\u043d\\u0435 \\u0431\\u044b\\u043b\\u043e \\u043d\\u0438 \\u043c\\u0438\\u043d\\u0443\\u0442\\u044b \\u0441\\u0432\\u043e\\u0431\\u043e\\u0434\\u043d\\u043e\\u0439, \\u0447\\u0442\\u043e\\u0431\\u044b \\u0432\\u044b\\u0432\\u0435\\u0441\\u0442\\u0438 \\u0410\\u043b\\u0438\\u0441\\u0443 \\u0438\\u0437 \\u0438\\u043d\\u043a\\u0443\\u0431\\u0430\\u0442\\u043e\\u0440\\u0430. \\u0418 \\u043d\\u0435 \\u0431\\u044b\\u043b\\u043e \\u0432\\u043e\\u043a\\u0440\\u0443\\u0433 \\u043d\\u0438\\u043a\\u043e\\u0433\\u043e, \\u043a\\u0442\\u043e \\u0441\\u043e\\u0433\\u043b\\u0430\\u0441\\u0438\\u043b\\u0441\\u044f \\u0431\\u044b \\u044d\\u0442\\u043e \\u0441\\u0434\\u0435\\u043b\\u0430\\u0442\\u044c \\u0437\\u0430 \\u043c\\u0435\\u043d\\u044f.\\n-\\u0421\\u0442\\u043e\\u0439 \\u0437\\u0434\\u0435\\u0441\\u044c \\u0438 \\u043d\\u0438\\u043a\\u0443\\u0434\\u0430 \\u043d\\u0435 \\u0443\\u0445\\u043e\\u0434\\u0438,- \\u0441\\u043a\\u0430\\u0437\\u0430\\u043b \\u044f \\u0435\\u0439, \\u0430 \\u0441\\u0430\\u043c \\u0431\\u0440\\u043e\\u0441\\u0438\\u043b\\u0441\\u044f \\u043a \\u043a\\u043e\\u043b\\u043f\\u0430\\u043a\\u0443 \\u0441 \\u043d\\u043e\\u0432\\u043e\\u0440\\u043e\\u0436\\u0434\\u0435\\u043d\\u043d\\u044b\\u043c \\u0431\\u0440\\u043e\\u043d\\u0442\\u043e\\u0437\\u0430\\u0432\\u0440\\u043e\\u043c.\\n\\u0412\\u0435\\u0441\\u044c \\u0432\\u0435\\u0447\\u0435\\u0440 \\u043c\\u044b \\u0441 \\u0410\\u043b\\u0438\\u0441\\u043e\\u0439 \\u043d\\u0435 \\u0440\\u0430\\u0437\\u0433\\u043e\\u0432\\u0430\\u0440\\u0438\\u0432\\u0430\\u043b\\u0438. \\u041f\\u043e\\u0441\\u0441\\u043e\\u0440\\u0438\\u043b\\u0438\\u0441\\u044c. \\u042f \\u0437\\u0430\\u043f\\u0440\\u0435\\u0442\\u0438\\u043b \\u0435\\u0439 \\u043f\\u043e\\u044f\\u0432\\u043b\\u044f\\u0442\\u044c\\u0441\\u044f \\u0432 \\u0438\\u043d\\u043a\\u0443\\u0431\\u0430\\u0442\\u043e\\u0440\\u0435, \\u043d\\u043e \\u043e\\u043d\\u0430 \\u0441\\u043a\\u0430\\u0437\\u0430\\u043b\\u0430, \\u0447\\u0442\\u043e \\u043d\\u0435 \\u043c\\u043e\\u0436\\u0435\\u0442 \\u043c\\u0435\\u043d\\u044f \\u043f\\u043e\\u0441\\u043b\\u0443\\u0448\\u0430\\u0442\\u044c\\u0441\\u044f, \\u043f\\u043e\\u0442\\u043e\\u043c\\u0443 \\u0447\\u0442\\u043e \\u0435\\u0439 \\u0436\\u0430\\u043b\\u043a\\u043e \\u0411\\u0440\\u043e\\u043d\\u0442\\u044e. \\u0418 \\u043d\\u0430 \\u0441\\u043b\\u0435\\u0434\\u0443\\u044e\\u0449\\u0438\\u0439 \\u0434\\u0435\\u043d\\u044c \\u043e\\u043d\\u0430 \\u0441\\u043d\\u043e\\u0432\\u0430 \\u043f\\u0440\\u043e\\u0431\\u0440\\u0430\\u043b\\u0430\\u0441\\u044c \\u0432 \\u0438\\u043d\\u043a\\u0443\\u0431\\u0430\\u0442\\u043e\\u0440. \\u0415\\u0435 \\u043f\\u0440\\u043e\\u0432\\u0435\\u043b\\u0438 \\u043a\\u043e\\u0441\\u043c\\u043e\\u043d\\u0430\\u0432\\u0442\\u044b \\u0441 \\u043a\\u043e\\u0440\\u0430\\u0431\\u043b\\u044f \\u00ab\\u042e\\u043f\\u0438\\u0442\\u0435\\u0440-8\\u00bb. \\u041a\\u043e\\u0441\\u043c\\u043e\\u043d\\u0430\\u0432\\u0442\\u044b \\u0431\\u044b\\u043b\\u0438 \\u0433\\u0435\\u0440\\u043e\\u044f\\u043c\\u0438, \\u0438 \\u043d\\u0438\\u043a\\u0442\\u043e \\u043d\\u0435 \\u043c\\u043e\\u0433 \\u043e\\u0442\\u043a\\u0430\\u0437\\u0430\\u0442\\u044c \\u0438\\u043c.\\n-\\u0414\\u043e\\u0431\\u0440\\u043e\\u0435 \\u0443\\u0442\\u0440\\u043e, \\u0411\\u0440\\u043e\\u043d\\u0442\\u044f,- \\u0441\\u043a\\u0430\\u0437\\u0430\\u043b\\u0430 \\u043e\\u043d\\u0430, \\u043f\\u043e\\u0434\\u0445\\u043e\\u0434\\u044f \\u043a \\u043a\\u043e\\u043b\\u043f\\u0430\\u043a\\u0443.\\n\\u0411\\u0440\\u043e\\u043d\\u0442\\u043e\\u0437\\u0430\\u0432\\u0440\\u0435\\u043d\\u043e\\u043a \\u0438\\u0441\\u043a\\u043e\\u0441\\u0430 \\u043f\\u043e\\u0441\\u043c\\u043e\\u0442\\u0440\\u0435\\u043b \\u043d\\u0430 \\u043d\\u0435\\u0435.\",\n          \"-\\u0412\\u044b \\u0441\\u0435\\u0440\\u0434\\u0438\\u0442\\u044b\\u0439, \\u0442\\u043e\\u0432\\u0430\\u0440\\u0438\\u0449, \\u043f\\u043e\\u0442\\u043e\\u043c\\u0443 \\u0447\\u0442\\u043e \\u043f\\u043b\\u043e\\u0445\\u043e \\u0441\\u0435\\u0431\\u044f \\u0447\\u0443\\u0432\\u0441\\u0442\\u0432\\u0443\\u0435\\u0442\\u0435. \\u0412\\u0430\\u043c \\u043d\\u0430\\u0434\\u043e \\u043f\\u043e\\u043b\\u0435\\u0436\\u0430\\u0442\\u044c.\\n-\\u0422\\u044b \\u0434\\u043e\\u043a\\u0442\\u043e\\u0440, \\u0447\\u0442\\u043e \\u043b\\u0438?- \\u043e\\u043a\\u0440\\u044b\\u0441\\u0438\\u043b\\u0441\\u044f \\u0441\\u043b\\u0443\\u0436\\u0438\\u0432\\u044b\\u0439.- \\u0410 \\u043d\\u0443 \\u043f\\u043e\\u043a\\u0430\\u0436\\u044c \\u0434\\u043e\\u043a\\u0443\\u043c\\u0435\\u043d\\u0442!\\n-\\u0414\\u043e\\u043a\\u0442\\u043e\\u0440, \\u0434\\u043e\\u043a\\u0442\\u043e\\u0440,- \\u0437\\u0430\\u043a\\u0438\\u0432\\u0430\\u043b \\u0430\\u0437\\u0438\\u0430\\u0442.- \\u0412\\u0430\\u043c \\u0432\\u043e\\u0442 \\u0437\\u0434\\u0435\\u0441\\u044c \\u0441\\u043e\\u0432\\u0441\\u0435\\u043c \\u0431\\u043e\\u043b\\u044c\\u043d\\u043e.\\n\\u041e\\u043d \\u0442\\u043a\\u043d\\u0443\\u043b \\u043c\\u0438\\u043b\\u0438\\u0446\\u0438\\u043e\\u043d\\u0435\\u0440\\u0443 \\u043f\\u0430\\u043b\\u044c\\u0446\\u0435\\u043c \\u043a\\u0443\\u0434\\u0430-\\u0442\\u043e \\u0432 \\u0436\\u0438\\u0432\\u043e\\u0442. \\u0422\\u0430\\u043c, \\u043a\\u0430\\u0436\\u0435\\u0442\\u0441\\u044f, \\u0432 \\u0441\\u0430\\u043c\\u043e\\u043c \\u0434\\u0435\\u043b\\u0435 \\u0431\\u044b\\u043b\\u043e \\u00ab\\u0441\\u043e\\u0432\\u0441\\u0435\\u043c \\u0431\\u043e\\u043b\\u044c\\u043d\\u043e\\u00bb- \\u043a\\u0430\\u0437\\u0435\\u043d\\u043d\\u044b\\u0439 \\u0447\\u0435\\u043b\\u043e\\u0432\\u0435\\u043a \\u043e\\u0439\\u043a\\u043d\\u0443\\u043b, \\u0441\\u0442\\u0430\\u043b \\u043e\\u0447\\u0435\\u043d\\u044c \\u0431\\u043b\\u0435\\u0434\\u0435\\u043d, \\u0432\\u044b\\u0440\\u043e\\u043d\\u0438\\u043b \\u0432\\u0438\\u043d\\u0442\\u043e\\u0432\\u043a\\u0443, \\u043f\\u043e\\u0448\\u0430\\u0442\\u043d\\u0443\\u043b\\u0441\\u044f.\\n-\\u0415\\u043c\\u0443 \\u043d\\u0435\\u0445\\u043e\\u0440\\u043e\\u0448\\u043e,- \\u043e\\u0431\\u044a\\u044f\\u0441\\u043d\\u0438\\u043b \\u043a\\u0438\\u0442\\u0430\\u0435\\u0446 \\u0434\\u0440\\u0443\\u0433\\u0438\\u043c \\u043f\\u0430\\u0441\\u0441\\u0430\\u0436\\u0438\\u0440\\u0430\\u043c, \\u0431\\u0435\\u0440\\u0435\\u0436\\u043d\\u043e \\u0432\\u0437\\u044f\\u0432 \\u043c\\u0438\\u043b\\u0438\\u0446\\u0438\\u043e\\u043d\\u0435\\u0440\\u0430 \\u0437\\u0430 \\u0432\\u043e\\u0440\\u043e\\u0442.- \\u041e\\u043d \\u043d\\u0435\\u043c\\u043d\\u043e\\u0436\\u043a\\u043e \\u043f\\u043e\\u043b\\u0435\\u0436\\u0438\\u0442. \\u041f\\u043e\\u0434\\u0432\\u0438\\u043d\\u044c\\u0442\\u0435\\u0441\\u044c, \\u0433\\u0440\\u0430\\u0436\\u0434\\u0430\\u043d\\u0435\\u2026 \\u0411\\u043e\\u043b\\u044c\\u0448\\u043e\\u0435 \\u0441\\u043f\\u0430\\u0441\\u0438\\u0431\\u043e.\\n\\u0421 \\u044d\\u0442\\u0438\\u043c\\u0438 \\u0441\\u043b\\u043e\\u0432\\u0430\\u043c\\u0438 \\u043e\\u043d \\u0443\\u043b\\u043e\\u0436\\u0438\\u043b \\u0441\\u043e\\u043c\\u043b\\u0435\\u0432\\u0448\\u0435\\u0433\\u043e \\u0441\\u043b\\u0443\\u0436\\u0438\\u0442\\u0435\\u043b\\u044f \\u0441\\u043e\\u0446\\u0438\\u0430\\u043b\\u0438\\u0441\\u0442\\u0438\\u0447\\u0435\\u0441\\u043a\\u043e\\u0439 \\u0437\\u0430\\u043a\\u043e\\u043d\\u043d\\u043e\\u0441\\u0442\\u0438 \\u043d\\u0430 \\u043f\\u0435\\u0440\\u0440\\u043e\\u043d \\u0438, \\u0432\\u0441\\u043a\\u0438\\u043d\\u0443\\u0432 \\u043f\\u043e\\u043a\\u043b\\u0430\\u0436\\u0443 \\u043f\\u043e\\u0432\\u044b\\u0448\\u0435, \\u043d\\u0435\\u0442\\u043e\\u0440\\u043e\\u043f\\u043b\\u0438\\u0432\\u043e \\u043f\\u043e\\u0434\\u043d\\u044f\\u043b\\u0441\\u044f \\u043f\\u043e \\u0441\\u0442\\u0443\\u043f\\u0435\\u043d\\u044c\\u043a\\u0430\\u043c. \\u0421\\u043b\\u0435\\u0434\\u043e\\u043c \\u0440\\u0438\\u043d\\u0443\\u043b\\u0438\\u0441\\u044c \\u043e\\u0441\\u0442\\u0430\\u043b\\u044c\\u043d\\u044b\\u0435.\\n\\u0412\\u043d\\u0443\\u0442\\u0440\\u0438 \\u043e\\u043a\\u0430\\u0437\\u0430\\u043b\\u043e\\u0441\\u044c, \\u0447\\u0442\\u043e \\u043f\\u043e\\u0437\\u0430\\u0440\\u0438\\u0432\\u0448\\u0438\\u0435\\u0441\\u044f \\u043d\\u0430 \\u043f\\u0435\\u0440\\u0432\\u044b\\u0439 \\u043a\\u043b\\u0430\\u0441\\u0441 \\u043f\\u0440\\u043e\\u0441\\u0447\\u0438\\u0442\\u0430\\u043b\\u0438\\u0441\\u044c. \\u041d\\u0435\\u0434\\u0430\\u0432\\u043d\\u043e \\u0437\\u0434\\u0435\\u0441\\u044c \\u0435\\u0445\\u0430\\u043b\\u0438 \\u0434\\u043e\\u043c\\u043e\\u0439 \\u0441 \\u0444\\u0440\\u043e\\u043d\\u0442\\u0430 \\u0443\\u0441\\u0441\\u0443\\u0440\\u0438\\u0439\\u0441\\u043a\\u0438\\u0435 \\u043a\\u0430\\u0437\\u0430\\u043a\\u0438, \\u043d\\u0435 \\u043f\\u043e\\u0436\\u0435\\u043b\\u0430\\u0432\\u0448\\u0438\\u0435 \\u0440\\u0430\\u0441\\u0441\\u0442\\u0430\\u0432\\u0430\\u0442\\u044c\\u0441\\u044f \\u0441\\u043e \\u0441\\u0432\\u043e\\u0438\\u043c\\u0438 \\u043b\\u043e\\u0448\\u0430\\u0434\\u044c\\u043c\\u0438, \\u0438 \\u0440\\u0435\\u0441\\u043f\\u0435\\u043a\\u0442\\u0430\\u0431\\u0435\\u043b\\u044c\\u043d\\u044b\\u0439 \\u0432\\u0430\\u0433\\u043e\\u043d, \\u043f\\u043e\\u0434\\u043e\\u0431\\u043d\\u043e \\u0421\\u0430\\u043c\\u0430\\u0440\\u0441\\u043a\\u043e\\u043c\\u0443 \\u0432\\u043e\\u043a\\u0437\\u0430\\u043b\\u0443, \\u043f\\u0430\\u043b \\u0436\\u0435\\u0440\\u0442\\u0432\\u043e\\u0439 \\u0440\\u0435\\u0432\\u043e\\u043b\\u044e\\u0446\\u0438\\u0438. \\u0412 \\u0441\\u0442\\u0435\\u043d\\u044b \\u043d\\u0430\\u043c\\u0435\\u0440\\u0442\\u0432\\u043e \\u0432\\u043f\\u0438\\u0442\\u0430\\u043b\\u0441\\u044f \\u043a\\u0438\\u0441\\u043b\\u044b\\u0439 \\u043a\\u043e\\u043d\\u0441\\u043a\\u0438\\u0439 \\u0437\\u0430\\u043f\\u0430\\u0445, \\u0430 \\u043f\\u0435\\u0440\\u0435\\u0433\\u043e\\u0440\\u043e\\u0434\\u043a\\u0438, \\u043f\\u043e\\u043b\\u043a\\u0438, \\u0441\\u0442\\u043e\\u043b\\u0438\\u043a\\u0438, \\u0434\\u0438\\u0432\\u0430\\u043d\\u0447\\u0438\\u043a\\u0438 \\u0441\\u0433\\u043e\\u0440\\u0435\\u043b\\u0438 \\u0432 \\u043a\\u043e\\u0441\\u0442\\u0440\\u0435, \\u043e\\u0442 \\u043a\\u043e\\u0442\\u043e\\u0440\\u043e\\u0433\\u043e \\u043d\\u0430 \\u043f\\u043e\\u043b\\u0443, \\u043f\\u043e\\u0441\\u0435\\u0440\\u0435\\u0434\\u0438\\u043d\\u0435 \\u0440\\u0430\\u0437\\u043e\\u0440\\u0435\\u043d\\u043d\\u043e\\u0433\\u043e \\u043f\\u0443\\u0441\\u0442\\u043e\\u0433\\u043e \\u043f\\u0440\\u043e\\u0441\\u0442\\u0440\\u0430\\u043d\\u0441\\u0442\\u0432\\u0430, \\u043e\\u0441\\u0442\\u0430\\u043b\\u0430\\u0441\\u044c \\u043f\\u0440\\u043e\\u0436\\u0436\\u0435\\u043d\\u043d\\u0430\\u044f \\u0432\\u044b\\u0431\\u043e\\u0438\\u043d\\u0430. \\u0423\\u0446\\u0435\\u043b\\u0435\\u043b\\u043e \\u0442\\u043e\\u043b\\u044c\\u043a\\u043e \\u043e\\u0434\\u043d\\u043e \\u043a\\u0440\\u0430\\u0439\\u043d\\u0435\\u0435 \\u043a\\u0443\\u043f\\u0435. \\u041a \\u043d\\u0435\\u043c\\u0443 \\u0438 \\u043f\\u043e\\u0441\\u043f\\u0435\\u0448\\u0438\\u043b\\u0438 \\u043f\\u0435\\u0440\\u0432\\u044b\\u0435 \\u0432\\u043e\\u0440\\u0432\\u0430\\u0432\\u0448\\u0438\\u0435\\u0441\\u044f, \\u0445\\u043e\\u0442\\u044f \\u00ab\\u043f\\u043e\\u0441\\u043f\\u0435\\u0448\\u0430\\u043d\\u0438\\u0435\\u043c\\u00bb \\u043d\\u0430\\u0437\\u0432\\u0430\\u0442\\u044c \\u044d\\u0442\\u043e \\u0431\\u044b\\u043b\\u043e \\u0442\\u0440\\u0443\\u0434\\u043d\\u043e. \\u041d\\u0438\\u043a\\u0442\\u043e \\u043d\\u0435 \\u043e\\u0441\\u043c\\u0435\\u043b\\u0438\\u043b\\u0441\\u044f \\u043e\\u0431\\u043e\\u0433\\u043d\\u0430\\u0442\\u044c \\u0432\\u0435\\u0436\\u043b\\u0438\\u0432\\u043e\\u0433\\u043e \\u043a\\u0438\\u0442\\u0430\\u0439\\u0446\\u0430 \\u0441 \\u0435\\u0433\\u043e \\u0433\\u0440\\u043e\\u043c\\u043e\\u0437\\u0434\\u043a\\u043e\\u0439 \\u043d\\u043e\\u0448\\u0435\\u0439, \\u0430 \\u043e\\u043d \\u0434\\u0432\\u0438\\u0433\\u0430\\u043b\\u0441\\u044f \\u0441\\u043e\\u043b\\u0438\\u0434\\u043d\\u043e, \\u0431\\u0435\\u0437 \\u0441\\u0443\\u0435\\u0442\\u044b. \\u0422\\u043e\\u043b\\u044c\\u043a\\u043e \\u043a\\u043e\\u0433\\u0434\\u0430 \\u0432\\u043e\\u0441\\u0442\\u043e\\u0447\\u043d\\u044b\\u0439 \\u0447\\u0435\\u043b\\u043e\\u0432\\u0435\\u043a, \\u043e\\u0441\\u043c\\u043e\\u0442\\u0440\\u0435\\u0432\\u0448\\u0438\\u0441\\u044c, \\u0443\\u0441\\u0435\\u043b\\u0441\\u044f, \\u043f\\u0440\\u0438\\u0441\\u0442\\u0440\\u043e\\u0438\\u0432 \\u043a \\u043e\\u043a\\u043d\\u0443 \\u0432\\u0435\\u0440\\u0442\\u0438\\u043a\\u0430\\u043b\\u044c\\u043d\\u043e \\u0441\\u0432\\u043e\\u0439 \\u0442\\u044e\\u043a, \\u0432 \\u043e\\u0442\\u0434\\u0435\\u043b\\u0435\\u043d\\u0438\\u0435 \\u0431\\u0440\\u043e\\u0441\\u0438\\u043b\\u0438\\u0441\\u044c \\u0441\\u0430\\u043c\\u044b\\u0435 \\u0431\\u043e\\u0435\\u0432\\u0438\\u0442\\u044b\\u0435. \\u0412\\u0442\\u043e\\u0440\\u044b\\u043c \\u0432\\u043e\\u0440\\u0432\\u0430\\u043b\\u0441\\u044f \\u0432\\u0435\\u0440\\u0437\\u0438\\u043b\\u0430-\\u043c\\u0430\\u0442\\u0440\\u043e\\u0441, \\u0443\\u0436\\u0435 \\u043e\\u043f\\u0440\\u0430\\u0432\\u0438\\u0432\\u0448\\u0438\\u0439\\u0441\\u044f \\u043e\\u0442 \\u0443\\u0434\\u0430\\u0440\\u0430 \\u043b\\u043e\\u043a\\u0442\\u0435\\u043c.\\n-\\u042f \\u043d\\u0430\\u0432\\u0435\\u0440\\u0445, \\u043d\\u0435 \\u0432\\u043e\\u0437\\u0440\\u0430\\u0436\\u0430\\u0435\\u0442\\u0435?- \\u043f\\u043e\\u0447\\u0442\\u0438\\u0442\\u0435\\u043b\\u044c\\u043d\\u043e \\u0441\\u043f\\u0440\\u043e\\u0441\\u0438\\u043b \\u043e\\u043d \\u0438 \\u043e\\u043a\\u043a\\u0443\\u043f\\u0438\\u0440\\u043e\\u0432\\u0430\\u043b \\u043a\\u043e\\u0437\\u044b\\u0440\\u043d\\u0443\\u044e \\u043f\\u043e\\u0437\\u0438\\u0446\\u0438\\u044e- \\u043e\\u0434\\u043d\\u0443 \\u0438\\u0437 \\u0431\\u0430\\u0433\\u0430\\u0436\\u043d\\u044b\\u0445 \\u043f\\u043e\\u043b\\u043e\\u043a, \\u0433\\u0434\\u0435 \\u043c\\u043e\\u0436\\u043d\\u043e \\u0431\\u044b\\u043b\\u043e \\u0440\\u0430\\u0437\\u043b\\u0435\\u0447\\u044c\\u0441\\u044f \\u0432\\u043e \\u0432\\u0435\\u0441\\u044c \\u0440\\u043e\\u0441\\u0442.\",\n          \"-\\u041d\\u043e \\u0435\\u0441\\u043b\\u0438 \\u043e\\u043d\\u0430\\u2026\\n-\\u041e\\u043d\\u0430 \\u0443\\u0448\\u043b\\u0430 \\u0435\\u0449\\u0435 \\u0434\\u043e \\u0437\\u0430\\u043a\\u0430\\u0442\\u0430,- \\u043f\\u0435\\u0440\\u0435\\u0431\\u0438\\u043b \\u0435\\u0433\\u043e \\u0413\\u0435\\u043d\\u0440\\u0438 \\u041b\\u044d\\u043d\\u0434\\u0435\\u0440.\\n\\u0411\\u0443\\u0434\\u0442\\u043e \\u043f\\u0440\\u0438 \\u0441\\u0432\\u0435\\u0442\\u0435 \\u0434\\u043d\\u044f \\u0432\\u043e\\u043b\\u043a (\\u0438\\u043b\\u0438 \\u043c\\u0435\\u0434\\u0432\\u0435\\u0434\\u044c) \\u043d\\u0435 \\u0441\\u0442\\u0430\\u043d\\u0435\\u0442 \\u043d\\u0430\\u043f\\u0430\\u0434\\u0430\\u0442\\u044c \\u043d\\u0430 \\u0431\\u0435\\u0437\\u0437\\u0430\\u0449\\u0438\\u0442\\u043d\\u0443\\u044e \\u0436\\u0435\\u043d\\u0449\\u0438\\u043d\\u0443. \\u0425\\u043e\\u0442\\u044f \\u043a\\u0430\\u043a \\u0437\\u043d\\u0430\\u0442\\u044c. \\u0414\\u044d\\u0432\\u0438\\u0434 \\u0431\\u044b\\u043b \\u0431\\u0430\\u043d\\u043a\\u043e\\u0432\\u0441\\u043a\\u0438\\u043c \\u0441\\u043b\\u0443\\u0436\\u0430\\u0449\\u0438\\u043c, \\u0430 \\u043d\\u0435 \\u0441\\u043f\\u0435\\u0446\\u0438\\u0430\\u043b\\u0438\\u0441\\u0442\\u043e\\u043c \\u043f\\u043e \\u0434\\u0438\\u043a\\u043e\\u0439 \\u043f\\u0440\\u0438\\u0440\\u043e\\u0434\\u0435. \\u0418 \\u043e\\u043d \\u0431\\u044b\\u043b \\u043c\\u043e\\u043b\\u043e\\u0434.\\n-\\u0415\\u0441\\u043b\\u0438 \\u043f\\u0440\\u0438\\u0434\\u0435\\u0442 \\u0430\\u0432\\u0430\\u0440\\u0438\\u0439\\u043d\\u044b\\u0439 \\u0441\\u043e\\u0441\\u0442\\u0430\\u0432, \\u0430 \\u0435\\u0435 \\u0437\\u0434\\u0435\\u0441\\u044c \\u043d\\u0435 \\u0431\\u0443\\u0434\\u0435\\u0442, \\u043e\\u043d\\u0430 \\u043e\\u0441\\u0442\\u0430\\u043d\\u0435\\u0442\\u0441\\u044f \\u0437\\u0434\\u0435\\u0441\\u044c.\\n\\u0423 \\u043d\\u0435\\u0433\\u043e \\u043d\\u0438\\u043a\\u0430\\u043a \\u043d\\u0435 \\u043f\\u043e\\u043b\\u0443\\u0447\\u0430\\u043b\\u043e\\u0441\\u044c \\u0434\\u043e\\u0432\\u0435\\u0441\\u0442\\u0438 \\u0434\\u043e \\u0438\\u0445 \\u0441\\u043e\\u0437\\u043d\\u0430\\u043d\\u0438\\u044f \\u044d\\u0442\\u0443 \\u043f\\u0440\\u043e\\u0441\\u0442\\u0443\\u044e \\u043c\\u044b\\u0441\\u043b\\u044c. \\u00ab\\u041d\\u0435 \\u043a\\u043e\\u043d\\u0442\\u0430\\u0447\\u0438\\u043b\\u043e\\u00bb, \\u043a\\u0430\\u043a \\u0432\\u044b\\u0440\\u0430\\u0436\\u0430\\u043b\\u0438\\u0441\\u044c \\u0440\\u0435\\u0431\\u044f\\u0442\\u0430 \\u0438\\u0437 \\u0447\\u0438\\u043a\\u0430\\u0433\\u0441\\u043a\\u043e\\u0433\\u043e \\u043e\\u0444\\u0438\\u0441\\u0430.\\n\\u0413\\u0435\\u043d\\u0440\\u0438 \\u043f\\u043e\\u0434\\u043d\\u044f\\u043b \\u0431\\u0440\\u043e\\u0432\\u0438:\\n-\\u0425\\u043e\\u0447\\u0435\\u0448\\u044c \\u0441\\u043a\\u0430\\u0437\\u0430\\u0442\\u044c, \\u0435\\u0441\\u043b\\u0438 \\u0432\\u044b \\u043e\\u0431\\u0430 \\u043e\\u043f\\u043e\\u0437\\u0434\\u0430\\u0435\\u0442\\u0435 \\u043d\\u0430 \\u043f\\u043e\\u0435\\u0437\\u0434, \\u0431\\u0443\\u0434\\u0435\\u0442 \\u0447\\u0435\\u043c-\\u0442\\u043e \\u043b\\u0443\\u0447\\u0448\\u0435?\\n\\u0415\\u0441\\u043b\\u0438 \\u043e\\u043d\\u0438 \\u043e\\u0431\\u0430 \\u043e\\u043f\\u043e\\u0437\\u0434\\u0430\\u044e\\u0442, \\u0442\\u043e \\u043b\\u0438\\u0431\\u043e \\u043f\\u043e\\u0435\\u0434\\u0443\\u0442 \\u043d\\u0430 \\u0430\\u0432\\u0442\\u043e\\u0431\\u0443\\u0441\\u0435, \\u043b\\u0438\\u0431\\u043e \\u0434\\u043e\\u0436\\u0434\\u0443\\u0442\\u0441\\u044f \\u0441\\u043b\\u0435\\u0434\\u0443\\u044e\\u0449\\u0435\\u0433\\u043e \\u0441\\u043e\\u0441\\u0442\\u0430\\u0432\\u0430. \\u041b\\u044d\\u043d\\u0434\\u0435\\u0440\\u044b \\u043d\\u0435 \\u043c\\u043e\\u0433\\u043b\\u0438 \\u044d\\u0442\\u043e\\u0433\\u043e \\u043d\\u0435 \\u043f\\u043e\\u043d\\u0438\\u043c\\u0430\\u0442\\u044c. \\u0418\\u043b\\u0438 \\u0432\\u0441\\u0435-\\u0442\\u0430\\u043a\\u0438?.. \\u0418\\u0445 \\u0443\\u0441\\u0442\\u0430\\u043b\\u043e\\u0441\\u0442\\u044c \\u0431\\u0440\\u043e\\u0441\\u0430\\u043b\\u0430\\u0441\\u044c \\u0432 \\u0433\\u043b\\u0430\\u0437\\u0430. \\u041f\\u0435\\u0440\\u0435\\u0434 \\u0414\\u044d\\u0432\\u0438\\u0434\\u043e\\u043c \\u0441\\u0438\\u0434\\u0435\\u043b\\u0430 \\u043f\\u0430\\u0440\\u0430 \\u0438\\u0437\\u043c\\u0443\\u0447\\u0435\\u043d\\u043d\\u044b\\u0445 \\u043b\\u044e\\u0434\\u0435\\u0439, \\u0432\\u0440\\u0435\\u043c\\u0435\\u043d\\u043d\\u043e \\u0437\\u0430\\u0441\\u0442\\u0440\\u044f\\u0432\\u0448\\u0438\\u0445 \\u0432 \\u043a\\u0440\\u0430\\u044e \\u043a\\u043e\\u0432\\u0431\\u043e\\u0439\\u0441\\u043a\\u0438\\u0445 \\u043a\\u043e\\u043c\\u0431\\u0438\\u043d\\u0435\\u0437\\u043e\\u043d\\u043e\\u0432. \\u041d\\u043e \\u043a\\u043e\\u0433\\u043e \\u0432\\u043e\\u043e\\u0431\\u0449\\u0435 \\u0437\\u0430\\u0431\\u043e\\u0442\\u0438\\u0442 \\u0441\\u0443\\u0434\\u044c\\u0431\\u0430 \\u0423\\u0438\\u043b\\u043b\\u044b? \\u0415\\u0441\\u043b\\u0438 \\u043e\\u043d\\u0430 \\u0441\\u0433\\u0438\\u043d\\u0435\\u0442 \\u043d\\u0430 \\u043f\\u0440\\u043e\\u0441\\u0442\\u043e\\u0440\\u0430\\u0445 \\u0412\\u044b\\u0441\\u043e\\u043a\\u0438\\u0445 \\u0440\\u0430\\u0432\\u043d\\u0438\\u043d, \\u043a\\u0442\\u043e \\u0435\\u0449\\u0435 \\u043e \\u043d\\u0435\\u0439 \\u0432\\u0441\\u043f\\u043e\\u043c\\u043d\\u0438\\u0442, \\u043a\\u0440\\u043e\\u043c\\u0435 \\u0414\\u044d\\u0432\\u0438\\u0434\\u0430 \\u0421\\u044d\\u043d\\u0434\\u0435\\u0440\\u0441\\u043e\\u043d\\u0430? \\u0415\\u0435 \\u0437\\u0434\\u0435\\u0441\\u044c \\u0434\\u0430\\u0436\\u0435 \\u043d\\u0435\\u0434\\u043e\\u043b\\u044e\\u0431\\u043b\\u0438\\u0432\\u0430\\u043b\\u0438. \\u042d\\u0442\\u0430 \\u0441\\u0442\\u0435\\u0440\\u0432\\u0430 \\u0423\\u0440\\u0441\\u0443\\u043b\\u0430 \\u0414\\u044d\\u0432\\u0438\\u0441 \\u043e\\u0434\\u043d\\u0430\\u0436\\u0434\\u044b \\u0437\\u0430\\u044f\\u0432\\u0438\\u043b\\u0430 \\u0435\\u043c\\u0443, \\u0447\\u0442\\u043e \\u0435\\u0441\\u043b\\u0438 \\u0431\\u044b \\u043c\\u0430\\u0442\\u044c \\u0423\\u0438\\u043b\\u043b\\u044b \\u0432\\u043e\\u0432\\u0440\\u0435\\u043c\\u044f \\u0443\\u0431\\u0440\\u0430\\u043b\\u0430 \\u0438\\u0437 \\u0435\\u0435 \\u0438\\u043c\\u0435\\u043d\\u0438 \\u043f\\u043e\\u0441\\u043b\\u0435\\u0434\\u043d\\u044e\\u044e \\u0431\\u0443\\u043a\\u0432\\u0443, \\u00ab\\u043e\\u043d\\u043e \\u043f\\u043e\\u0434\\u0445\\u043e\\u0434\\u0438\\u043b\\u043e \\u0431\\u044b \\u0435\\u0439 \\u043a\\u0443\\u0434\\u0430 \\u0431\\u043e\\u043b\\u044c\\u0448\\u0435\\u00bb.\"\n        ],\n        \"semantic_type\": \"\",\n        \"description\": \"\"\n      }\n    },\n    {\n      \"column\": \"label\",\n      \"properties\": {\n        \"dtype\": \"category\",\n        \"num_unique_values\": 8,\n        \"samples\": [\n          \"Remark\",\n          \"Chehov\",\n          \"Pratchett\"\n        ],\n        \"semantic_type\": \"\",\n        \"description\": \"\"\n      }\n    }\n  ]\n}"
            }
          },
          "metadata": {},
          "execution_count": 6
        }
      ]
    },
    {
      "cell_type": "markdown",
      "source": [
        "Здесь поле 'text' — это текст, а 'label' — автор текста. 'label' — это целевая переменная, которую мы будем предсказывать. Обратите внимания, что в тестовых данных столбца 'label' нет, вам нужно будет предсказать его значения и отправить в качестве ответа на Яндекс.Контест."
      ],
      "metadata": {
        "id": "8ky6cnNcTu6p"
      }
    },
    {
      "cell_type": "code",
      "source": [
        "test_data = pd.read_csv('test_authors.csv')\n",
        "test_data.head()"
      ],
      "metadata": {
        "colab": {
          "base_uri": "https://localhost:8080/",
          "height": 206
        },
        "id": "lLgUS5P5Trnu",
        "outputId": "191342c2-3e3a-498c-f4d9-e46cbec100d9"
      },
      "execution_count": null,
      "outputs": [
        {
          "output_type": "execute_result",
          "data": {
            "text/plain": [
              "                                                text\n",
              "0  -Да, я поторопился. Капитан, примите мои извин...\n",
              "1  -Похороны по первому разряду! Довольно благоро...\n",
              "2  Третий округ штата Мэн настолько велик, что ег...\n",
              "3  В мире существуют миллиарды и миллиарды богов....\n",
              "4  Особенность историографии киевского периода со..."
            ],
            "text/html": [
              "\n",
              "  <div id=\"df-e309d237-7b24-4eb5-b413-601d94ab92b5\" class=\"colab-df-container\">\n",
              "    <div>\n",
              "<style scoped>\n",
              "    .dataframe tbody tr th:only-of-type {\n",
              "        vertical-align: middle;\n",
              "    }\n",
              "\n",
              "    .dataframe tbody tr th {\n",
              "        vertical-align: top;\n",
              "    }\n",
              "\n",
              "    .dataframe thead th {\n",
              "        text-align: right;\n",
              "    }\n",
              "</style>\n",
              "<table border=\"1\" class=\"dataframe\">\n",
              "  <thead>\n",
              "    <tr style=\"text-align: right;\">\n",
              "      <th></th>\n",
              "      <th>text</th>\n",
              "    </tr>\n",
              "  </thead>\n",
              "  <tbody>\n",
              "    <tr>\n",
              "      <th>0</th>\n",
              "      <td>-Да, я поторопился. Капитан, примите мои извин...</td>\n",
              "    </tr>\n",
              "    <tr>\n",
              "      <th>1</th>\n",
              "      <td>-Похороны по первому разряду! Довольно благоро...</td>\n",
              "    </tr>\n",
              "    <tr>\n",
              "      <th>2</th>\n",
              "      <td>Третий округ штата Мэн настолько велик, что ег...</td>\n",
              "    </tr>\n",
              "    <tr>\n",
              "      <th>3</th>\n",
              "      <td>В мире существуют миллиарды и миллиарды богов....</td>\n",
              "    </tr>\n",
              "    <tr>\n",
              "      <th>4</th>\n",
              "      <td>Особенность историографии киевского периода со...</td>\n",
              "    </tr>\n",
              "  </tbody>\n",
              "</table>\n",
              "</div>\n",
              "    <div class=\"colab-df-buttons\">\n",
              "\n",
              "  <div class=\"colab-df-container\">\n",
              "    <button class=\"colab-df-convert\" onclick=\"convertToInteractive('df-e309d237-7b24-4eb5-b413-601d94ab92b5')\"\n",
              "            title=\"Convert this dataframe to an interactive table.\"\n",
              "            style=\"display:none;\">\n",
              "\n",
              "  <svg xmlns=\"http://www.w3.org/2000/svg\" height=\"24px\" viewBox=\"0 -960 960 960\">\n",
              "    <path d=\"M120-120v-720h720v720H120Zm60-500h600v-160H180v160Zm220 220h160v-160H400v160Zm0 220h160v-160H400v160ZM180-400h160v-160H180v160Zm440 0h160v-160H620v160ZM180-180h160v-160H180v160Zm440 0h160v-160H620v160Z\"/>\n",
              "  </svg>\n",
              "    </button>\n",
              "\n",
              "  <style>\n",
              "    .colab-df-container {\n",
              "      display:flex;\n",
              "      gap: 12px;\n",
              "    }\n",
              "\n",
              "    .colab-df-convert {\n",
              "      background-color: #E8F0FE;\n",
              "      border: none;\n",
              "      border-radius: 50%;\n",
              "      cursor: pointer;\n",
              "      display: none;\n",
              "      fill: #1967D2;\n",
              "      height: 32px;\n",
              "      padding: 0 0 0 0;\n",
              "      width: 32px;\n",
              "    }\n",
              "\n",
              "    .colab-df-convert:hover {\n",
              "      background-color: #E2EBFA;\n",
              "      box-shadow: 0px 1px 2px rgba(60, 64, 67, 0.3), 0px 1px 3px 1px rgba(60, 64, 67, 0.15);\n",
              "      fill: #174EA6;\n",
              "    }\n",
              "\n",
              "    .colab-df-buttons div {\n",
              "      margin-bottom: 4px;\n",
              "    }\n",
              "\n",
              "    [theme=dark] .colab-df-convert {\n",
              "      background-color: #3B4455;\n",
              "      fill: #D2E3FC;\n",
              "    }\n",
              "\n",
              "    [theme=dark] .colab-df-convert:hover {\n",
              "      background-color: #434B5C;\n",
              "      box-shadow: 0px 1px 3px 1px rgba(0, 0, 0, 0.15);\n",
              "      filter: drop-shadow(0px 1px 2px rgba(0, 0, 0, 0.3));\n",
              "      fill: #FFFFFF;\n",
              "    }\n",
              "  </style>\n",
              "\n",
              "    <script>\n",
              "      const buttonEl =\n",
              "        document.querySelector('#df-e309d237-7b24-4eb5-b413-601d94ab92b5 button.colab-df-convert');\n",
              "      buttonEl.style.display =\n",
              "        google.colab.kernel.accessAllowed ? 'block' : 'none';\n",
              "\n",
              "      async function convertToInteractive(key) {\n",
              "        const element = document.querySelector('#df-e309d237-7b24-4eb5-b413-601d94ab92b5');\n",
              "        const dataTable =\n",
              "          await google.colab.kernel.invokeFunction('convertToInteractive',\n",
              "                                                    [key], {});\n",
              "        if (!dataTable) return;\n",
              "\n",
              "        const docLinkHtml = 'Like what you see? Visit the ' +\n",
              "          '<a target=\"_blank\" href=https://colab.research.google.com/notebooks/data_table.ipynb>data table notebook</a>'\n",
              "          + ' to learn more about interactive tables.';\n",
              "        element.innerHTML = '';\n",
              "        dataTable['output_type'] = 'display_data';\n",
              "        await google.colab.output.renderOutput(dataTable, element);\n",
              "        const docLink = document.createElement('div');\n",
              "        docLink.innerHTML = docLinkHtml;\n",
              "        element.appendChild(docLink);\n",
              "      }\n",
              "    </script>\n",
              "  </div>\n",
              "\n",
              "\n",
              "<div id=\"df-3b244e6c-6472-4322-97ef-5afc205bc049\">\n",
              "  <button class=\"colab-df-quickchart\" onclick=\"quickchart('df-3b244e6c-6472-4322-97ef-5afc205bc049')\"\n",
              "            title=\"Suggest charts\"\n",
              "            style=\"display:none;\">\n",
              "\n",
              "<svg xmlns=\"http://www.w3.org/2000/svg\" height=\"24px\"viewBox=\"0 0 24 24\"\n",
              "     width=\"24px\">\n",
              "    <g>\n",
              "        <path d=\"M19 3H5c-1.1 0-2 .9-2 2v14c0 1.1.9 2 2 2h14c1.1 0 2-.9 2-2V5c0-1.1-.9-2-2-2zM9 17H7v-7h2v7zm4 0h-2V7h2v10zm4 0h-2v-4h2v4z\"/>\n",
              "    </g>\n",
              "</svg>\n",
              "  </button>\n",
              "\n",
              "<style>\n",
              "  .colab-df-quickchart {\n",
              "      --bg-color: #E8F0FE;\n",
              "      --fill-color: #1967D2;\n",
              "      --hover-bg-color: #E2EBFA;\n",
              "      --hover-fill-color: #174EA6;\n",
              "      --disabled-fill-color: #AAA;\n",
              "      --disabled-bg-color: #DDD;\n",
              "  }\n",
              "\n",
              "  [theme=dark] .colab-df-quickchart {\n",
              "      --bg-color: #3B4455;\n",
              "      --fill-color: #D2E3FC;\n",
              "      --hover-bg-color: #434B5C;\n",
              "      --hover-fill-color: #FFFFFF;\n",
              "      --disabled-bg-color: #3B4455;\n",
              "      --disabled-fill-color: #666;\n",
              "  }\n",
              "\n",
              "  .colab-df-quickchart {\n",
              "    background-color: var(--bg-color);\n",
              "    border: none;\n",
              "    border-radius: 50%;\n",
              "    cursor: pointer;\n",
              "    display: none;\n",
              "    fill: var(--fill-color);\n",
              "    height: 32px;\n",
              "    padding: 0;\n",
              "    width: 32px;\n",
              "  }\n",
              "\n",
              "  .colab-df-quickchart:hover {\n",
              "    background-color: var(--hover-bg-color);\n",
              "    box-shadow: 0 1px 2px rgba(60, 64, 67, 0.3), 0 1px 3px 1px rgba(60, 64, 67, 0.15);\n",
              "    fill: var(--button-hover-fill-color);\n",
              "  }\n",
              "\n",
              "  .colab-df-quickchart-complete:disabled,\n",
              "  .colab-df-quickchart-complete:disabled:hover {\n",
              "    background-color: var(--disabled-bg-color);\n",
              "    fill: var(--disabled-fill-color);\n",
              "    box-shadow: none;\n",
              "  }\n",
              "\n",
              "  .colab-df-spinner {\n",
              "    border: 2px solid var(--fill-color);\n",
              "    border-color: transparent;\n",
              "    border-bottom-color: var(--fill-color);\n",
              "    animation:\n",
              "      spin 1s steps(1) infinite;\n",
              "  }\n",
              "\n",
              "  @keyframes spin {\n",
              "    0% {\n",
              "      border-color: transparent;\n",
              "      border-bottom-color: var(--fill-color);\n",
              "      border-left-color: var(--fill-color);\n",
              "    }\n",
              "    20% {\n",
              "      border-color: transparent;\n",
              "      border-left-color: var(--fill-color);\n",
              "      border-top-color: var(--fill-color);\n",
              "    }\n",
              "    30% {\n",
              "      border-color: transparent;\n",
              "      border-left-color: var(--fill-color);\n",
              "      border-top-color: var(--fill-color);\n",
              "      border-right-color: var(--fill-color);\n",
              "    }\n",
              "    40% {\n",
              "      border-color: transparent;\n",
              "      border-right-color: var(--fill-color);\n",
              "      border-top-color: var(--fill-color);\n",
              "    }\n",
              "    60% {\n",
              "      border-color: transparent;\n",
              "      border-right-color: var(--fill-color);\n",
              "    }\n",
              "    80% {\n",
              "      border-color: transparent;\n",
              "      border-right-color: var(--fill-color);\n",
              "      border-bottom-color: var(--fill-color);\n",
              "    }\n",
              "    90% {\n",
              "      border-color: transparent;\n",
              "      border-bottom-color: var(--fill-color);\n",
              "    }\n",
              "  }\n",
              "</style>\n",
              "\n",
              "  <script>\n",
              "    async function quickchart(key) {\n",
              "      const quickchartButtonEl =\n",
              "        document.querySelector('#' + key + ' button');\n",
              "      quickchartButtonEl.disabled = true;  // To prevent multiple clicks.\n",
              "      quickchartButtonEl.classList.add('colab-df-spinner');\n",
              "      try {\n",
              "        const charts = await google.colab.kernel.invokeFunction(\n",
              "            'suggestCharts', [key], {});\n",
              "      } catch (error) {\n",
              "        console.error('Error during call to suggestCharts:', error);\n",
              "      }\n",
              "      quickchartButtonEl.classList.remove('colab-df-spinner');\n",
              "      quickchartButtonEl.classList.add('colab-df-quickchart-complete');\n",
              "    }\n",
              "    (() => {\n",
              "      let quickchartButtonEl =\n",
              "        document.querySelector('#df-3b244e6c-6472-4322-97ef-5afc205bc049 button');\n",
              "      quickchartButtonEl.style.display =\n",
              "        google.colab.kernel.accessAllowed ? 'block' : 'none';\n",
              "    })();\n",
              "  </script>\n",
              "</div>\n",
              "    </div>\n",
              "  </div>\n"
            ],
            "application/vnd.google.colaboratory.intrinsic+json": {
              "type": "dataframe",
              "variable_name": "test_data",
              "summary": "{\n  \"name\": \"test_data\",\n  \"rows\": 1651,\n  \"fields\": [\n    {\n      \"column\": \"text\",\n      \"properties\": {\n        \"dtype\": \"string\",\n        \"num_unique_values\": 1585,\n        \"samples\": [\n          \"-\\u041c\\u043d\\u0435 \\u043c\\u043e\\u0436\\u043d\\u043e. \\u042f \\u0432\\u0441\\u0435\\u043c \\u0433\\u043e\\u0432\\u043e\\u0440\\u0438\\u043b\\u0430, \\u0447\\u0442\\u043e \\u044f \\u0442\\u0432\\u043e\\u044f \\u0434\\u043e\\u0447\\u043a\\u0430. \\u0418 \\u043c\\u0435\\u043d\\u044f \\u043f\\u0443\\u0441\\u0442\\u0438\\u043b\\u0438.\\n-\\u0422\\u044b \\u0437\\u043d\\u0430\\u0435\\u0448\\u044c, \\u0447\\u0442\\u043e \\u043f\\u043e\\u043b\\u044c\\u0437\\u043e\\u0432\\u0430\\u0442\\u044c\\u0441\\u044f \\u0437\\u043d\\u0430\\u043a\\u043e\\u043c\\u0441\\u0442\\u0432\\u0430\\u043c\\u0438 \\u0434\\u043b\\u044f \\u043b\\u0438\\u0447\\u043d\\u044b\\u0445 \\u0446\\u0435\\u043b\\u0435\\u0439 \\u043d\\u0435\\u0445\\u043e\\u0440\\u043e\\u0448\\u043e?\\n-\\u041d\\u043e \\u0432\\u0435\\u0434\\u044c, \\u043f\\u0430\\u043f\\u0430, \\u043c\\u0430\\u043b\\u0435\\u043d\\u044c\\u043a\\u043e\\u043c\\u0443 \\u0411\\u0440\\u043e\\u043d\\u0442\\u0435, \\u043c\\u043e\\u0436\\u0435\\u0442 \\u0431\\u044b\\u0442\\u044c, \\u0441\\u043a\\u0443\\u0447\\u043d\\u043e \\u0431\\u0435\\u0437 \\u0434\\u0435\\u0442\\u0435\\u0439, \\u0432\\u043e\\u0442 \\u044f \\u0438 \\u043f\\u0440\\u0438\\u0448\\u043b\\u0430.\\n\\u042f \\u0442\\u043e\\u043b\\u044c\\u043a\\u043e \\u0440\\u0443\\u043a\\u043e\\u0439 \\u043c\\u0430\\u0445\\u043d\\u0443\\u043b. \\u0423 \\u043c\\u0435\\u043d\\u044f \\u043d\\u0435 \\u0431\\u044b\\u043b\\u043e \\u043d\\u0438 \\u043c\\u0438\\u043d\\u0443\\u0442\\u044b \\u0441\\u0432\\u043e\\u0431\\u043e\\u0434\\u043d\\u043e\\u0439, \\u0447\\u0442\\u043e\\u0431\\u044b \\u0432\\u044b\\u0432\\u0435\\u0441\\u0442\\u0438 \\u0410\\u043b\\u0438\\u0441\\u0443 \\u0438\\u0437 \\u0438\\u043d\\u043a\\u0443\\u0431\\u0430\\u0442\\u043e\\u0440\\u0430. \\u0418 \\u043d\\u0435 \\u0431\\u044b\\u043b\\u043e \\u0432\\u043e\\u043a\\u0440\\u0443\\u0433 \\u043d\\u0438\\u043a\\u043e\\u0433\\u043e, \\u043a\\u0442\\u043e \\u0441\\u043e\\u0433\\u043b\\u0430\\u0441\\u0438\\u043b\\u0441\\u044f \\u0431\\u044b \\u044d\\u0442\\u043e \\u0441\\u0434\\u0435\\u043b\\u0430\\u0442\\u044c \\u0437\\u0430 \\u043c\\u0435\\u043d\\u044f.\\n-\\u0421\\u0442\\u043e\\u0439 \\u0437\\u0434\\u0435\\u0441\\u044c \\u0438 \\u043d\\u0438\\u043a\\u0443\\u0434\\u0430 \\u043d\\u0435 \\u0443\\u0445\\u043e\\u0434\\u0438,- \\u0441\\u043a\\u0430\\u0437\\u0430\\u043b \\u044f \\u0435\\u0439, \\u0430 \\u0441\\u0430\\u043c \\u0431\\u0440\\u043e\\u0441\\u0438\\u043b\\u0441\\u044f \\u043a \\u043a\\u043e\\u043b\\u043f\\u0430\\u043a\\u0443 \\u0441 \\u043d\\u043e\\u0432\\u043e\\u0440\\u043e\\u0436\\u0434\\u0435\\u043d\\u043d\\u044b\\u043c \\u0431\\u0440\\u043e\\u043d\\u0442\\u043e\\u0437\\u0430\\u0432\\u0440\\u043e\\u043c.\\n\\u0412\\u0435\\u0441\\u044c \\u0432\\u0435\\u0447\\u0435\\u0440 \\u043c\\u044b \\u0441 \\u0410\\u043b\\u0438\\u0441\\u043e\\u0439 \\u043d\\u0435 \\u0440\\u0430\\u0437\\u0433\\u043e\\u0432\\u0430\\u0440\\u0438\\u0432\\u0430\\u043b\\u0438. \\u041f\\u043e\\u0441\\u0441\\u043e\\u0440\\u0438\\u043b\\u0438\\u0441\\u044c. \\u042f \\u0437\\u0430\\u043f\\u0440\\u0435\\u0442\\u0438\\u043b \\u0435\\u0439 \\u043f\\u043e\\u044f\\u0432\\u043b\\u044f\\u0442\\u044c\\u0441\\u044f \\u0432 \\u0438\\u043d\\u043a\\u0443\\u0431\\u0430\\u0442\\u043e\\u0440\\u0435, \\u043d\\u043e \\u043e\\u043d\\u0430 \\u0441\\u043a\\u0430\\u0437\\u0430\\u043b\\u0430, \\u0447\\u0442\\u043e \\u043d\\u0435 \\u043c\\u043e\\u0436\\u0435\\u0442 \\u043c\\u0435\\u043d\\u044f \\u043f\\u043e\\u0441\\u043b\\u0443\\u0448\\u0430\\u0442\\u044c\\u0441\\u044f, \\u043f\\u043e\\u0442\\u043e\\u043c\\u0443 \\u0447\\u0442\\u043e \\u0435\\u0439 \\u0436\\u0430\\u043b\\u043a\\u043e \\u0411\\u0440\\u043e\\u043d\\u0442\\u044e. \\u0418 \\u043d\\u0430 \\u0441\\u043b\\u0435\\u0434\\u0443\\u044e\\u0449\\u0438\\u0439 \\u0434\\u0435\\u043d\\u044c \\u043e\\u043d\\u0430 \\u0441\\u043d\\u043e\\u0432\\u0430 \\u043f\\u0440\\u043e\\u0431\\u0440\\u0430\\u043b\\u0430\\u0441\\u044c \\u0432 \\u0438\\u043d\\u043a\\u0443\\u0431\\u0430\\u0442\\u043e\\u0440. \\u0415\\u0435 \\u043f\\u0440\\u043e\\u0432\\u0435\\u043b\\u0438 \\u043a\\u043e\\u0441\\u043c\\u043e\\u043d\\u0430\\u0432\\u0442\\u044b \\u0441 \\u043a\\u043e\\u0440\\u0430\\u0431\\u043b\\u044f \\u00ab\\u042e\\u043f\\u0438\\u0442\\u0435\\u0440-8\\u00bb. \\u041a\\u043e\\u0441\\u043c\\u043e\\u043d\\u0430\\u0432\\u0442\\u044b \\u0431\\u044b\\u043b\\u0438 \\u0433\\u0435\\u0440\\u043e\\u044f\\u043c\\u0438, \\u0438 \\u043d\\u0438\\u043a\\u0442\\u043e \\u043d\\u0435 \\u043c\\u043e\\u0433 \\u043e\\u0442\\u043a\\u0430\\u0437\\u0430\\u0442\\u044c \\u0438\\u043c.\\n-\\u0414\\u043e\\u0431\\u0440\\u043e\\u0435 \\u0443\\u0442\\u0440\\u043e, \\u0411\\u0440\\u043e\\u043d\\u0442\\u044f,- \\u0441\\u043a\\u0430\\u0437\\u0430\\u043b\\u0430 \\u043e\\u043d\\u0430, \\u043f\\u043e\\u0434\\u0445\\u043e\\u0434\\u044f \\u043a \\u043a\\u043e\\u043b\\u043f\\u0430\\u043a\\u0443.\\n\\u0411\\u0440\\u043e\\u043d\\u0442\\u043e\\u0437\\u0430\\u0432\\u0440\\u0435\\u043d\\u043e\\u043a \\u0438\\u0441\\u043a\\u043e\\u0441\\u0430 \\u043f\\u043e\\u0441\\u043c\\u043e\\u0442\\u0440\\u0435\\u043b \\u043d\\u0430 \\u043d\\u0435\\u0435.\",\n          \"-\\u0412\\u044b \\u0441\\u0435\\u0440\\u0434\\u0438\\u0442\\u044b\\u0439, \\u0442\\u043e\\u0432\\u0430\\u0440\\u0438\\u0449, \\u043f\\u043e\\u0442\\u043e\\u043c\\u0443 \\u0447\\u0442\\u043e \\u043f\\u043b\\u043e\\u0445\\u043e \\u0441\\u0435\\u0431\\u044f \\u0447\\u0443\\u0432\\u0441\\u0442\\u0432\\u0443\\u0435\\u0442\\u0435. \\u0412\\u0430\\u043c \\u043d\\u0430\\u0434\\u043e \\u043f\\u043e\\u043b\\u0435\\u0436\\u0430\\u0442\\u044c.\\n-\\u0422\\u044b \\u0434\\u043e\\u043a\\u0442\\u043e\\u0440, \\u0447\\u0442\\u043e \\u043b\\u0438?- \\u043e\\u043a\\u0440\\u044b\\u0441\\u0438\\u043b\\u0441\\u044f \\u0441\\u043b\\u0443\\u0436\\u0438\\u0432\\u044b\\u0439.- \\u0410 \\u043d\\u0443 \\u043f\\u043e\\u043a\\u0430\\u0436\\u044c \\u0434\\u043e\\u043a\\u0443\\u043c\\u0435\\u043d\\u0442!\\n-\\u0414\\u043e\\u043a\\u0442\\u043e\\u0440, \\u0434\\u043e\\u043a\\u0442\\u043e\\u0440,- \\u0437\\u0430\\u043a\\u0438\\u0432\\u0430\\u043b \\u0430\\u0437\\u0438\\u0430\\u0442.- \\u0412\\u0430\\u043c \\u0432\\u043e\\u0442 \\u0437\\u0434\\u0435\\u0441\\u044c \\u0441\\u043e\\u0432\\u0441\\u0435\\u043c \\u0431\\u043e\\u043b\\u044c\\u043d\\u043e.\\n\\u041e\\u043d \\u0442\\u043a\\u043d\\u0443\\u043b \\u043c\\u0438\\u043b\\u0438\\u0446\\u0438\\u043e\\u043d\\u0435\\u0440\\u0443 \\u043f\\u0430\\u043b\\u044c\\u0446\\u0435\\u043c \\u043a\\u0443\\u0434\\u0430-\\u0442\\u043e \\u0432 \\u0436\\u0438\\u0432\\u043e\\u0442. \\u0422\\u0430\\u043c, \\u043a\\u0430\\u0436\\u0435\\u0442\\u0441\\u044f, \\u0432 \\u0441\\u0430\\u043c\\u043e\\u043c \\u0434\\u0435\\u043b\\u0435 \\u0431\\u044b\\u043b\\u043e \\u00ab\\u0441\\u043e\\u0432\\u0441\\u0435\\u043c \\u0431\\u043e\\u043b\\u044c\\u043d\\u043e\\u00bb- \\u043a\\u0430\\u0437\\u0435\\u043d\\u043d\\u044b\\u0439 \\u0447\\u0435\\u043b\\u043e\\u0432\\u0435\\u043a \\u043e\\u0439\\u043a\\u043d\\u0443\\u043b, \\u0441\\u0442\\u0430\\u043b \\u043e\\u0447\\u0435\\u043d\\u044c \\u0431\\u043b\\u0435\\u0434\\u0435\\u043d, \\u0432\\u044b\\u0440\\u043e\\u043d\\u0438\\u043b \\u0432\\u0438\\u043d\\u0442\\u043e\\u0432\\u043a\\u0443, \\u043f\\u043e\\u0448\\u0430\\u0442\\u043d\\u0443\\u043b\\u0441\\u044f.\\n-\\u0415\\u043c\\u0443 \\u043d\\u0435\\u0445\\u043e\\u0440\\u043e\\u0448\\u043e,- \\u043e\\u0431\\u044a\\u044f\\u0441\\u043d\\u0438\\u043b \\u043a\\u0438\\u0442\\u0430\\u0435\\u0446 \\u0434\\u0440\\u0443\\u0433\\u0438\\u043c \\u043f\\u0430\\u0441\\u0441\\u0430\\u0436\\u0438\\u0440\\u0430\\u043c, \\u0431\\u0435\\u0440\\u0435\\u0436\\u043d\\u043e \\u0432\\u0437\\u044f\\u0432 \\u043c\\u0438\\u043b\\u0438\\u0446\\u0438\\u043e\\u043d\\u0435\\u0440\\u0430 \\u0437\\u0430 \\u0432\\u043e\\u0440\\u043e\\u0442.- \\u041e\\u043d \\u043d\\u0435\\u043c\\u043d\\u043e\\u0436\\u043a\\u043e \\u043f\\u043e\\u043b\\u0435\\u0436\\u0438\\u0442. \\u041f\\u043e\\u0434\\u0432\\u0438\\u043d\\u044c\\u0442\\u0435\\u0441\\u044c, \\u0433\\u0440\\u0430\\u0436\\u0434\\u0430\\u043d\\u0435\\u2026 \\u0411\\u043e\\u043b\\u044c\\u0448\\u043e\\u0435 \\u0441\\u043f\\u0430\\u0441\\u0438\\u0431\\u043e.\\n\\u0421 \\u044d\\u0442\\u0438\\u043c\\u0438 \\u0441\\u043b\\u043e\\u0432\\u0430\\u043c\\u0438 \\u043e\\u043d \\u0443\\u043b\\u043e\\u0436\\u0438\\u043b \\u0441\\u043e\\u043c\\u043b\\u0435\\u0432\\u0448\\u0435\\u0433\\u043e \\u0441\\u043b\\u0443\\u0436\\u0438\\u0442\\u0435\\u043b\\u044f \\u0441\\u043e\\u0446\\u0438\\u0430\\u043b\\u0438\\u0441\\u0442\\u0438\\u0447\\u0435\\u0441\\u043a\\u043e\\u0439 \\u0437\\u0430\\u043a\\u043e\\u043d\\u043d\\u043e\\u0441\\u0442\\u0438 \\u043d\\u0430 \\u043f\\u0435\\u0440\\u0440\\u043e\\u043d \\u0438, \\u0432\\u0441\\u043a\\u0438\\u043d\\u0443\\u0432 \\u043f\\u043e\\u043a\\u043b\\u0430\\u0436\\u0443 \\u043f\\u043e\\u0432\\u044b\\u0448\\u0435, \\u043d\\u0435\\u0442\\u043e\\u0440\\u043e\\u043f\\u043b\\u0438\\u0432\\u043e \\u043f\\u043e\\u0434\\u043d\\u044f\\u043b\\u0441\\u044f \\u043f\\u043e \\u0441\\u0442\\u0443\\u043f\\u0435\\u043d\\u044c\\u043a\\u0430\\u043c. \\u0421\\u043b\\u0435\\u0434\\u043e\\u043c \\u0440\\u0438\\u043d\\u0443\\u043b\\u0438\\u0441\\u044c \\u043e\\u0441\\u0442\\u0430\\u043b\\u044c\\u043d\\u044b\\u0435.\\n\\u0412\\u043d\\u0443\\u0442\\u0440\\u0438 \\u043e\\u043a\\u0430\\u0437\\u0430\\u043b\\u043e\\u0441\\u044c, \\u0447\\u0442\\u043e \\u043f\\u043e\\u0437\\u0430\\u0440\\u0438\\u0432\\u0448\\u0438\\u0435\\u0441\\u044f \\u043d\\u0430 \\u043f\\u0435\\u0440\\u0432\\u044b\\u0439 \\u043a\\u043b\\u0430\\u0441\\u0441 \\u043f\\u0440\\u043e\\u0441\\u0447\\u0438\\u0442\\u0430\\u043b\\u0438\\u0441\\u044c. \\u041d\\u0435\\u0434\\u0430\\u0432\\u043d\\u043e \\u0437\\u0434\\u0435\\u0441\\u044c \\u0435\\u0445\\u0430\\u043b\\u0438 \\u0434\\u043e\\u043c\\u043e\\u0439 \\u0441 \\u0444\\u0440\\u043e\\u043d\\u0442\\u0430 \\u0443\\u0441\\u0441\\u0443\\u0440\\u0438\\u0439\\u0441\\u043a\\u0438\\u0435 \\u043a\\u0430\\u0437\\u0430\\u043a\\u0438, \\u043d\\u0435 \\u043f\\u043e\\u0436\\u0435\\u043b\\u0430\\u0432\\u0448\\u0438\\u0435 \\u0440\\u0430\\u0441\\u0441\\u0442\\u0430\\u0432\\u0430\\u0442\\u044c\\u0441\\u044f \\u0441\\u043e \\u0441\\u0432\\u043e\\u0438\\u043c\\u0438 \\u043b\\u043e\\u0448\\u0430\\u0434\\u044c\\u043c\\u0438, \\u0438 \\u0440\\u0435\\u0441\\u043f\\u0435\\u043a\\u0442\\u0430\\u0431\\u0435\\u043b\\u044c\\u043d\\u044b\\u0439 \\u0432\\u0430\\u0433\\u043e\\u043d, \\u043f\\u043e\\u0434\\u043e\\u0431\\u043d\\u043e \\u0421\\u0430\\u043c\\u0430\\u0440\\u0441\\u043a\\u043e\\u043c\\u0443 \\u0432\\u043e\\u043a\\u0437\\u0430\\u043b\\u0443, \\u043f\\u0430\\u043b \\u0436\\u0435\\u0440\\u0442\\u0432\\u043e\\u0439 \\u0440\\u0435\\u0432\\u043e\\u043b\\u044e\\u0446\\u0438\\u0438. \\u0412 \\u0441\\u0442\\u0435\\u043d\\u044b \\u043d\\u0430\\u043c\\u0435\\u0440\\u0442\\u0432\\u043e \\u0432\\u043f\\u0438\\u0442\\u0430\\u043b\\u0441\\u044f \\u043a\\u0438\\u0441\\u043b\\u044b\\u0439 \\u043a\\u043e\\u043d\\u0441\\u043a\\u0438\\u0439 \\u0437\\u0430\\u043f\\u0430\\u0445, \\u0430 \\u043f\\u0435\\u0440\\u0435\\u0433\\u043e\\u0440\\u043e\\u0434\\u043a\\u0438, \\u043f\\u043e\\u043b\\u043a\\u0438, \\u0441\\u0442\\u043e\\u043b\\u0438\\u043a\\u0438, \\u0434\\u0438\\u0432\\u0430\\u043d\\u0447\\u0438\\u043a\\u0438 \\u0441\\u0433\\u043e\\u0440\\u0435\\u043b\\u0438 \\u0432 \\u043a\\u043e\\u0441\\u0442\\u0440\\u0435, \\u043e\\u0442 \\u043a\\u043e\\u0442\\u043e\\u0440\\u043e\\u0433\\u043e \\u043d\\u0430 \\u043f\\u043e\\u043b\\u0443, \\u043f\\u043e\\u0441\\u0435\\u0440\\u0435\\u0434\\u0438\\u043d\\u0435 \\u0440\\u0430\\u0437\\u043e\\u0440\\u0435\\u043d\\u043d\\u043e\\u0433\\u043e \\u043f\\u0443\\u0441\\u0442\\u043e\\u0433\\u043e \\u043f\\u0440\\u043e\\u0441\\u0442\\u0440\\u0430\\u043d\\u0441\\u0442\\u0432\\u0430, \\u043e\\u0441\\u0442\\u0430\\u043b\\u0430\\u0441\\u044c \\u043f\\u0440\\u043e\\u0436\\u0436\\u0435\\u043d\\u043d\\u0430\\u044f \\u0432\\u044b\\u0431\\u043e\\u0438\\u043d\\u0430. \\u0423\\u0446\\u0435\\u043b\\u0435\\u043b\\u043e \\u0442\\u043e\\u043b\\u044c\\u043a\\u043e \\u043e\\u0434\\u043d\\u043e \\u043a\\u0440\\u0430\\u0439\\u043d\\u0435\\u0435 \\u043a\\u0443\\u043f\\u0435. \\u041a \\u043d\\u0435\\u043c\\u0443 \\u0438 \\u043f\\u043e\\u0441\\u043f\\u0435\\u0448\\u0438\\u043b\\u0438 \\u043f\\u0435\\u0440\\u0432\\u044b\\u0435 \\u0432\\u043e\\u0440\\u0432\\u0430\\u0432\\u0448\\u0438\\u0435\\u0441\\u044f, \\u0445\\u043e\\u0442\\u044f \\u00ab\\u043f\\u043e\\u0441\\u043f\\u0435\\u0448\\u0430\\u043d\\u0438\\u0435\\u043c\\u00bb \\u043d\\u0430\\u0437\\u0432\\u0430\\u0442\\u044c \\u044d\\u0442\\u043e \\u0431\\u044b\\u043b\\u043e \\u0442\\u0440\\u0443\\u0434\\u043d\\u043e. \\u041d\\u0438\\u043a\\u0442\\u043e \\u043d\\u0435 \\u043e\\u0441\\u043c\\u0435\\u043b\\u0438\\u043b\\u0441\\u044f \\u043e\\u0431\\u043e\\u0433\\u043d\\u0430\\u0442\\u044c \\u0432\\u0435\\u0436\\u043b\\u0438\\u0432\\u043e\\u0433\\u043e \\u043a\\u0438\\u0442\\u0430\\u0439\\u0446\\u0430 \\u0441 \\u0435\\u0433\\u043e \\u0433\\u0440\\u043e\\u043c\\u043e\\u0437\\u0434\\u043a\\u043e\\u0439 \\u043d\\u043e\\u0448\\u0435\\u0439, \\u0430 \\u043e\\u043d \\u0434\\u0432\\u0438\\u0433\\u0430\\u043b\\u0441\\u044f \\u0441\\u043e\\u043b\\u0438\\u0434\\u043d\\u043e, \\u0431\\u0435\\u0437 \\u0441\\u0443\\u0435\\u0442\\u044b. \\u0422\\u043e\\u043b\\u044c\\u043a\\u043e \\u043a\\u043e\\u0433\\u0434\\u0430 \\u0432\\u043e\\u0441\\u0442\\u043e\\u0447\\u043d\\u044b\\u0439 \\u0447\\u0435\\u043b\\u043e\\u0432\\u0435\\u043a, \\u043e\\u0441\\u043c\\u043e\\u0442\\u0440\\u0435\\u0432\\u0448\\u0438\\u0441\\u044c, \\u0443\\u0441\\u0435\\u043b\\u0441\\u044f, \\u043f\\u0440\\u0438\\u0441\\u0442\\u0440\\u043e\\u0438\\u0432 \\u043a \\u043e\\u043a\\u043d\\u0443 \\u0432\\u0435\\u0440\\u0442\\u0438\\u043a\\u0430\\u043b\\u044c\\u043d\\u043e \\u0441\\u0432\\u043e\\u0439 \\u0442\\u044e\\u043a, \\u0432 \\u043e\\u0442\\u0434\\u0435\\u043b\\u0435\\u043d\\u0438\\u0435 \\u0431\\u0440\\u043e\\u0441\\u0438\\u043b\\u0438\\u0441\\u044c \\u0441\\u0430\\u043c\\u044b\\u0435 \\u0431\\u043e\\u0435\\u0432\\u0438\\u0442\\u044b\\u0435. \\u0412\\u0442\\u043e\\u0440\\u044b\\u043c \\u0432\\u043e\\u0440\\u0432\\u0430\\u043b\\u0441\\u044f \\u0432\\u0435\\u0440\\u0437\\u0438\\u043b\\u0430-\\u043c\\u0430\\u0442\\u0440\\u043e\\u0441, \\u0443\\u0436\\u0435 \\u043e\\u043f\\u0440\\u0430\\u0432\\u0438\\u0432\\u0448\\u0438\\u0439\\u0441\\u044f \\u043e\\u0442 \\u0443\\u0434\\u0430\\u0440\\u0430 \\u043b\\u043e\\u043a\\u0442\\u0435\\u043c.\\n-\\u042f \\u043d\\u0430\\u0432\\u0435\\u0440\\u0445, \\u043d\\u0435 \\u0432\\u043e\\u0437\\u0440\\u0430\\u0436\\u0430\\u0435\\u0442\\u0435?- \\u043f\\u043e\\u0447\\u0442\\u0438\\u0442\\u0435\\u043b\\u044c\\u043d\\u043e \\u0441\\u043f\\u0440\\u043e\\u0441\\u0438\\u043b \\u043e\\u043d \\u0438 \\u043e\\u043a\\u043a\\u0443\\u043f\\u0438\\u0440\\u043e\\u0432\\u0430\\u043b \\u043a\\u043e\\u0437\\u044b\\u0440\\u043d\\u0443\\u044e \\u043f\\u043e\\u0437\\u0438\\u0446\\u0438\\u044e- \\u043e\\u0434\\u043d\\u0443 \\u0438\\u0437 \\u0431\\u0430\\u0433\\u0430\\u0436\\u043d\\u044b\\u0445 \\u043f\\u043e\\u043b\\u043e\\u043a, \\u0433\\u0434\\u0435 \\u043c\\u043e\\u0436\\u043d\\u043e \\u0431\\u044b\\u043b\\u043e \\u0440\\u0430\\u0437\\u043b\\u0435\\u0447\\u044c\\u0441\\u044f \\u0432\\u043e \\u0432\\u0435\\u0441\\u044c \\u0440\\u043e\\u0441\\u0442.\",\n          \"-\\u041d\\u043e \\u0435\\u0441\\u043b\\u0438 \\u043e\\u043d\\u0430\\u2026\\n-\\u041e\\u043d\\u0430 \\u0443\\u0448\\u043b\\u0430 \\u0435\\u0449\\u0435 \\u0434\\u043e \\u0437\\u0430\\u043a\\u0430\\u0442\\u0430,- \\u043f\\u0435\\u0440\\u0435\\u0431\\u0438\\u043b \\u0435\\u0433\\u043e \\u0413\\u0435\\u043d\\u0440\\u0438 \\u041b\\u044d\\u043d\\u0434\\u0435\\u0440.\\n\\u0411\\u0443\\u0434\\u0442\\u043e \\u043f\\u0440\\u0438 \\u0441\\u0432\\u0435\\u0442\\u0435 \\u0434\\u043d\\u044f \\u0432\\u043e\\u043b\\u043a (\\u0438\\u043b\\u0438 \\u043c\\u0435\\u0434\\u0432\\u0435\\u0434\\u044c) \\u043d\\u0435 \\u0441\\u0442\\u0430\\u043d\\u0435\\u0442 \\u043d\\u0430\\u043f\\u0430\\u0434\\u0430\\u0442\\u044c \\u043d\\u0430 \\u0431\\u0435\\u0437\\u0437\\u0430\\u0449\\u0438\\u0442\\u043d\\u0443\\u044e \\u0436\\u0435\\u043d\\u0449\\u0438\\u043d\\u0443. \\u0425\\u043e\\u0442\\u044f \\u043a\\u0430\\u043a \\u0437\\u043d\\u0430\\u0442\\u044c. \\u0414\\u044d\\u0432\\u0438\\u0434 \\u0431\\u044b\\u043b \\u0431\\u0430\\u043d\\u043a\\u043e\\u0432\\u0441\\u043a\\u0438\\u043c \\u0441\\u043b\\u0443\\u0436\\u0430\\u0449\\u0438\\u043c, \\u0430 \\u043d\\u0435 \\u0441\\u043f\\u0435\\u0446\\u0438\\u0430\\u043b\\u0438\\u0441\\u0442\\u043e\\u043c \\u043f\\u043e \\u0434\\u0438\\u043a\\u043e\\u0439 \\u043f\\u0440\\u0438\\u0440\\u043e\\u0434\\u0435. \\u0418 \\u043e\\u043d \\u0431\\u044b\\u043b \\u043c\\u043e\\u043b\\u043e\\u0434.\\n-\\u0415\\u0441\\u043b\\u0438 \\u043f\\u0440\\u0438\\u0434\\u0435\\u0442 \\u0430\\u0432\\u0430\\u0440\\u0438\\u0439\\u043d\\u044b\\u0439 \\u0441\\u043e\\u0441\\u0442\\u0430\\u0432, \\u0430 \\u0435\\u0435 \\u0437\\u0434\\u0435\\u0441\\u044c \\u043d\\u0435 \\u0431\\u0443\\u0434\\u0435\\u0442, \\u043e\\u043d\\u0430 \\u043e\\u0441\\u0442\\u0430\\u043d\\u0435\\u0442\\u0441\\u044f \\u0437\\u0434\\u0435\\u0441\\u044c.\\n\\u0423 \\u043d\\u0435\\u0433\\u043e \\u043d\\u0438\\u043a\\u0430\\u043a \\u043d\\u0435 \\u043f\\u043e\\u043b\\u0443\\u0447\\u0430\\u043b\\u043e\\u0441\\u044c \\u0434\\u043e\\u0432\\u0435\\u0441\\u0442\\u0438 \\u0434\\u043e \\u0438\\u0445 \\u0441\\u043e\\u0437\\u043d\\u0430\\u043d\\u0438\\u044f \\u044d\\u0442\\u0443 \\u043f\\u0440\\u043e\\u0441\\u0442\\u0443\\u044e \\u043c\\u044b\\u0441\\u043b\\u044c. \\u00ab\\u041d\\u0435 \\u043a\\u043e\\u043d\\u0442\\u0430\\u0447\\u0438\\u043b\\u043e\\u00bb, \\u043a\\u0430\\u043a \\u0432\\u044b\\u0440\\u0430\\u0436\\u0430\\u043b\\u0438\\u0441\\u044c \\u0440\\u0435\\u0431\\u044f\\u0442\\u0430 \\u0438\\u0437 \\u0447\\u0438\\u043a\\u0430\\u0433\\u0441\\u043a\\u043e\\u0433\\u043e \\u043e\\u0444\\u0438\\u0441\\u0430.\\n\\u0413\\u0435\\u043d\\u0440\\u0438 \\u043f\\u043e\\u0434\\u043d\\u044f\\u043b \\u0431\\u0440\\u043e\\u0432\\u0438:\\n-\\u0425\\u043e\\u0447\\u0435\\u0448\\u044c \\u0441\\u043a\\u0430\\u0437\\u0430\\u0442\\u044c, \\u0435\\u0441\\u043b\\u0438 \\u0432\\u044b \\u043e\\u0431\\u0430 \\u043e\\u043f\\u043e\\u0437\\u0434\\u0430\\u0435\\u0442\\u0435 \\u043d\\u0430 \\u043f\\u043e\\u0435\\u0437\\u0434, \\u0431\\u0443\\u0434\\u0435\\u0442 \\u0447\\u0435\\u043c-\\u0442\\u043e \\u043b\\u0443\\u0447\\u0448\\u0435?\\n\\u0415\\u0441\\u043b\\u0438 \\u043e\\u043d\\u0438 \\u043e\\u0431\\u0430 \\u043e\\u043f\\u043e\\u0437\\u0434\\u0430\\u044e\\u0442, \\u0442\\u043e \\u043b\\u0438\\u0431\\u043e \\u043f\\u043e\\u0435\\u0434\\u0443\\u0442 \\u043d\\u0430 \\u0430\\u0432\\u0442\\u043e\\u0431\\u0443\\u0441\\u0435, \\u043b\\u0438\\u0431\\u043e \\u0434\\u043e\\u0436\\u0434\\u0443\\u0442\\u0441\\u044f \\u0441\\u043b\\u0435\\u0434\\u0443\\u044e\\u0449\\u0435\\u0433\\u043e \\u0441\\u043e\\u0441\\u0442\\u0430\\u0432\\u0430. \\u041b\\u044d\\u043d\\u0434\\u0435\\u0440\\u044b \\u043d\\u0435 \\u043c\\u043e\\u0433\\u043b\\u0438 \\u044d\\u0442\\u043e\\u0433\\u043e \\u043d\\u0435 \\u043f\\u043e\\u043d\\u0438\\u043c\\u0430\\u0442\\u044c. \\u0418\\u043b\\u0438 \\u0432\\u0441\\u0435-\\u0442\\u0430\\u043a\\u0438?.. \\u0418\\u0445 \\u0443\\u0441\\u0442\\u0430\\u043b\\u043e\\u0441\\u0442\\u044c \\u0431\\u0440\\u043e\\u0441\\u0430\\u043b\\u0430\\u0441\\u044c \\u0432 \\u0433\\u043b\\u0430\\u0437\\u0430. \\u041f\\u0435\\u0440\\u0435\\u0434 \\u0414\\u044d\\u0432\\u0438\\u0434\\u043e\\u043c \\u0441\\u0438\\u0434\\u0435\\u043b\\u0430 \\u043f\\u0430\\u0440\\u0430 \\u0438\\u0437\\u043c\\u0443\\u0447\\u0435\\u043d\\u043d\\u044b\\u0445 \\u043b\\u044e\\u0434\\u0435\\u0439, \\u0432\\u0440\\u0435\\u043c\\u0435\\u043d\\u043d\\u043e \\u0437\\u0430\\u0441\\u0442\\u0440\\u044f\\u0432\\u0448\\u0438\\u0445 \\u0432 \\u043a\\u0440\\u0430\\u044e \\u043a\\u043e\\u0432\\u0431\\u043e\\u0439\\u0441\\u043a\\u0438\\u0445 \\u043a\\u043e\\u043c\\u0431\\u0438\\u043d\\u0435\\u0437\\u043e\\u043d\\u043e\\u0432. \\u041d\\u043e \\u043a\\u043e\\u0433\\u043e \\u0432\\u043e\\u043e\\u0431\\u0449\\u0435 \\u0437\\u0430\\u0431\\u043e\\u0442\\u0438\\u0442 \\u0441\\u0443\\u0434\\u044c\\u0431\\u0430 \\u0423\\u0438\\u043b\\u043b\\u044b? \\u0415\\u0441\\u043b\\u0438 \\u043e\\u043d\\u0430 \\u0441\\u0433\\u0438\\u043d\\u0435\\u0442 \\u043d\\u0430 \\u043f\\u0440\\u043e\\u0441\\u0442\\u043e\\u0440\\u0430\\u0445 \\u0412\\u044b\\u0441\\u043e\\u043a\\u0438\\u0445 \\u0440\\u0430\\u0432\\u043d\\u0438\\u043d, \\u043a\\u0442\\u043e \\u0435\\u0449\\u0435 \\u043e \\u043d\\u0435\\u0439 \\u0432\\u0441\\u043f\\u043e\\u043c\\u043d\\u0438\\u0442, \\u043a\\u0440\\u043e\\u043c\\u0435 \\u0414\\u044d\\u0432\\u0438\\u0434\\u0430 \\u0421\\u044d\\u043d\\u0434\\u0435\\u0440\\u0441\\u043e\\u043d\\u0430? \\u0415\\u0435 \\u0437\\u0434\\u0435\\u0441\\u044c \\u0434\\u0430\\u0436\\u0435 \\u043d\\u0435\\u0434\\u043e\\u043b\\u044e\\u0431\\u043b\\u0438\\u0432\\u0430\\u043b\\u0438. \\u042d\\u0442\\u0430 \\u0441\\u0442\\u0435\\u0440\\u0432\\u0430 \\u0423\\u0440\\u0441\\u0443\\u043b\\u0430 \\u0414\\u044d\\u0432\\u0438\\u0441 \\u043e\\u0434\\u043d\\u0430\\u0436\\u0434\\u044b \\u0437\\u0430\\u044f\\u0432\\u0438\\u043b\\u0430 \\u0435\\u043c\\u0443, \\u0447\\u0442\\u043e \\u0435\\u0441\\u043b\\u0438 \\u0431\\u044b \\u043c\\u0430\\u0442\\u044c \\u0423\\u0438\\u043b\\u043b\\u044b \\u0432\\u043e\\u0432\\u0440\\u0435\\u043c\\u044f \\u0443\\u0431\\u0440\\u0430\\u043b\\u0430 \\u0438\\u0437 \\u0435\\u0435 \\u0438\\u043c\\u0435\\u043d\\u0438 \\u043f\\u043e\\u0441\\u043b\\u0435\\u0434\\u043d\\u044e\\u044e \\u0431\\u0443\\u043a\\u0432\\u0443, \\u00ab\\u043e\\u043d\\u043e \\u043f\\u043e\\u0434\\u0445\\u043e\\u0434\\u0438\\u043b\\u043e \\u0431\\u044b \\u0435\\u0439 \\u043a\\u0443\\u0434\\u0430 \\u0431\\u043e\\u043b\\u044c\\u0448\\u0435\\u00bb.\"\n        ],\n        \"semantic_type\": \"\",\n        \"description\": \"\"\n      }\n    }\n  ]\n}"
            }
          },
          "metadata": {},
          "execution_count": 7
        }
      ]
    },
    {
      "cell_type": "markdown",
      "source": [
        "Заведем словарь соответствия имени автора его номеру:"
      ],
      "metadata": {
        "id": "sMZqdsH9UGJn"
      }
    },
    {
      "cell_type": "code",
      "source": [
        "writers = ['Akunin', 'Bulychev', 'Chehov', 'Dostoevsky', 'Gogol', 'King',\n",
        "       'Pratchett', 'Remark']\n",
        "writers_to_label = {writer: i for i, writer in enumerate(writers)}\n",
        "label_to_writers = {i: writer for i, writer in enumerate(writers)}"
      ],
      "metadata": {
        "id": "iXI11mqwDN_6"
      },
      "execution_count": null,
      "outputs": []
    },
    {
      "cell_type": "markdown",
      "source": [
        "Создадим словарь dataset, который будет устроен так же, как переменная dataset в ноутбуке занятия. В тестовой части (dataset['test']) зададим для удобства всем текстам label=0."
      ],
      "metadata": {
        "id": "BR2skpOaUKh0"
      }
    },
    {
      "cell_type": "code",
      "source": [
        "dataset = {}\n",
        "\n",
        "dataset['train'] = [{'text':text, 'label':writers_to_label[label]} \\\n",
        "              for text, label in zip(np.array(train_data['text']), np.array(train_data['label']))]\n",
        "dataset['test'] = [{'text':text, 'label': 0} \\\n",
        "              for text in np.array(test_data['text'])]"
      ],
      "metadata": {
        "id": "o60H115wDT7C"
      },
      "execution_count": null,
      "outputs": []
    },
    {
      "cell_type": "markdown",
      "source": [
        "Ваша задача — обучить RNN-модель на тренировочных данных и получить максимальное возможное accuracy на тестовой части данных. За основу можно взять код с занятия. **Обратите внимание, что здесь у нас задача классификации на 8 классов, а не на 2, как было на занятии.**\n",
        "\n",
        "Чтобы улучшить качество базовой модели, можно попробовать различные идеи экспериментов. Вот несколько идей:\n",
        "* **Модель RNN**. Попробуйте LSTM и GRU. Мы советуем обратить внимание на [GRU](https://pytorch.org/docs/stable/generated/torch.nn.GRU.html), так как интерфейс этого класса ничем не отличается от обычной Vanilla RNN, которую мы использовали на семинаре.\n",
        "* **Увеличение количества рекуррентных слоев модели**. Это можно сделать с помощью параметра `num_layers` в классе `nn.RNN`. В такой модели выходы первой RNN передаются в качестве входов второй RNN и так далее.\n",
        "* **Изменение вида агрреграции выхода RNN**. В семинаре мы пробовали аггрегировать выходы RNN с помощью max, mean и получения последнего выхода. Можно попробовать другие варианты. Например, конкатенировать результат агрегации и эмбеддинг с последнего токена.\n",
        "* **Подбор гиперпараметров и обучение до сходимости**. Можно, например, увеличить количество эпох обучения нейросети, а также попробовать различные гиперпараметры: размер словаря, `dropout_rate`, `hidden_dim`."
      ],
      "metadata": {
        "id": "bDuUq1f8naTk"
      }
    },
    {
      "cell_type": "markdown",
      "source": [
        "## Сдача задания"
      ],
      "metadata": {
        "id": "pBtVCQgyWIgh"
      }
    },
    {
      "cell_type": "markdown",
      "source": [
        "Ниже приведена функция, которую вам необходимо запустить для обученной модели, чтобы получить предсказания на тестовой выборке. Здесь model — ваша обученная модель, dataloader — test_dataloader, построенный на основе тестовой части данных (dataset['test']):"
      ],
      "metadata": {
        "id": "TgYILx8NWFdg"
      }
    },
    {
      "cell_type": "code",
      "source": [
        "def get_predictions(model, dataloader):\n",
        "    \"\"\"\n",
        "    Calculate accuracy on data from dataloader.\n",
        "    \"\"\"\n",
        "\n",
        "    model.eval()\n",
        "    predictions = []\n",
        "    with torch.no_grad():\n",
        "        for batch in tqdm_notebook(dataloader,\n",
        "                                   desc=f'Evaluating'):\n",
        "            logits = model(batch['input_ids'])\n",
        "            predictions.append(logits.argmax(dim=1))\n",
        "\n",
        "    predictions = torch.cat(predictions).data.cpu().numpy()\n",
        "\n",
        "    return predictions"
      ],
      "metadata": {
        "id": "rpJVieGAGIHO"
      },
      "execution_count": null,
      "outputs": []
    },
    {
      "cell_type": "code",
      "source": [
        "predictions = get_predictions(model, test_dataloader)\n",
        "predictions = [label_to_writers[x] for x in predictions]\n",
        "predictions"
      ],
      "metadata": {
        "id": "dp9EIhXwGaAy"
      },
      "execution_count": null,
      "outputs": []
    },
    {
      "cell_type": "code",
      "source": [
        "np.save('submission_hw07.npy', predictions, allow_pickle=True)\n",
        "print('Ответ сохранен в файл `submission_hw07.npy`')"
      ],
      "metadata": {
        "colab": {
          "base_uri": "https://localhost:8080/"
        },
        "id": "sKHZrayRVf61",
        "outputId": "e09d2bb0-7ec6-4846-80a2-8bdf10e9bcad"
      },
      "execution_count": null,
      "outputs": [
        {
          "output_type": "stream",
          "name": "stdout",
          "text": [
            "Ответ сохранен в файл `submission_hw07.npy`\n"
          ]
        }
      ]
    }
  ]
}