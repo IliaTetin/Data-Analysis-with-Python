{
 "cells": [
  {
   "cell_type": "markdown",
   "metadata": {
    "id": "QAf6w23UB4Ww"
   },
   "source": [
    "## Домашнее задание №1"
   ]
  },
  {
   "cell_type": "code",
   "execution_count": 1,
   "metadata": {
    "id": "Ep6d50MfB4W0"
   },
   "outputs": [],
   "source": [
    "import numpy as np\n",
    "import json\n",
    "import re\n",
    "import torch\n",
    "import torch.nn as nn"
   ]
  },
  {
   "cell_type": "markdown",
   "metadata": {
    "id": "KkXDFCROB4W2"
   },
   "source": [
    "### Задача № 1\n",
    "Импортируйте `torch` и сохраните его версию в переменную version"
   ]
  },
  {
   "cell_type": "code",
   "execution_count": 2,
   "metadata": {
    "id": "Za4-RXMTB4W3"
   },
   "outputs": [
    {
     "name": "stderr",
     "output_type": "stream",
     "text": [
      "<>:9: SyntaxWarning: invalid escape sequence '\\d'\n",
      "<>:9: SyntaxWarning: invalid escape sequence '\\d'\n",
      "C:\\Users\\iteti\\AppData\\Local\\Temp\\ipykernel_25680\\2968043711.py:9: SyntaxWarning: invalid escape sequence '\\d'\n",
      "  major_version, minor_version = re.findall(\"\\d+\\.\\d+\", version)[0].split('.')\n"
     ]
    }
   ],
   "source": [
    "# импортируйте torch и сохраните его версию в переменную version\n",
    "# your code here\n",
    "\n",
    "version = torch.version.__version__ # your code here\n",
    "\n",
    "# не изменяйте код в блоке ниже! Он нужен для проверки правильности вашего кода.\n",
    "# __________start of block__________\n",
    "assert version is not None, 'Версия PyTorch не сохранилась в переменную version'\n",
    "major_version, minor_version = re.findall(\"\\d+\\.\\d+\", version)[0].split('.')\n",
    "assert float(major_version) >= 2 or (float(major_version) >= 1 and float(minor_version) >= 7), 'Нужно обновить PyTorch'\n",
    "# __________end of block__________"
   ]
  },
  {
   "cell_type": "markdown",
   "metadata": {
    "id": "Zvg6WZEqB4W4"
   },
   "source": [
    "Теперь импортируйте модуль `nn` и внутри функции `create_model` постройте нейронную сеть из трех линейных слоев размерностей 256, 16 и 10. Не забывайте о свободном члене (bias).\n",
    "\n",
    "Исходные элементы данных имеют размерность 784. В качестве функций активации скрытых слоев используйте ReLU. Самый последний слой оставьте без функции активации.\n",
    "\n",
    "В этом задании можно пользоваться torch.nn.Sequential()\n",
    "\n"
   ]
  },
  {
   "cell_type": "code",
   "execution_count": 3,
   "metadata": {
    "id": "q9n1-j78B4W4"
   },
   "outputs": [],
   "source": [
    "def create_model():\n",
    "    # Linear layer mapping from 784 features, so it should be 784->256->16->10\n",
    "    # your code here\n",
    "    model = nn.Sequential(\n",
    "        nn.Linear(784, 256),\n",
    "        nn.ReLU(),\n",
    "        nn.Linear(256, 16),\n",
    "        nn.ReLU(),\n",
    "        nn.Linear(16, 10)\n",
    "    )\n",
    "    # return model instance (None is just a placeholder)\n",
    "\n",
    "    return model\n",
    "\n",
    "\n",
    "model = create_model()\n",
    "# не изменяйте код в блоке ниже! Он нужен для проверки правильности вашего кода.\n",
    "# __________start of block__________\n",
    "for param in model.parameters():\n",
    "    nn.init.constant_(param, 1.)\n",
    "\n",
    "assert torch.allclose(model(torch.ones((1, 784))), torch.ones((1, 10)) * 3215377.), 'Что-то не так со структурой модели'\n",
    "\n",
    "# __________end of block__________"
   ]
  },
  {
   "cell_type": "markdown",
   "metadata": {
    "id": "Ml9RTIdyB4W5"
   },
   "source": [
    "Скопируйте функцию `create_model` в `submission_template01.py` для последующей сдачи задания."
   ]
  },
  {
   "cell_type": "markdown",
   "metadata": {
    "id": "RZUZ1oQGB4W5"
   },
   "source": [
    "### Задача №2\n",
    "Реализуйте функцию для подсчета количества параметров в модели (вам может помочь `model.parameters()`).\n",
    "\n",
    "На вход она принимает модель, на выход возвращает одно число – количество параметров в модели. Для вашего удобства доступно несколько тестов ниже."
   ]
  },
  {
   "cell_type": "code",
   "execution_count": 4,
   "metadata": {
    "colab": {
     "base_uri": "https://localhost:8080/"
    },
    "id": "NmnekTpSB4W6",
    "outputId": "52b9474c-995f-49f1-da0c-4d74192acbf8"
   },
   "outputs": [
    {
     "name": "stdout",
     "output_type": "stream",
     "text": [
      "Seems fine!\n"
     ]
    }
   ],
   "source": [
    "def count_parameters(model):\n",
    "    # your code here\n",
    "    count = 0\n",
    "    for param in model.parameters():\n",
    "        count += param.numel()\n",
    "\n",
    "    # верните количество параметров модели model\n",
    "    return count # your code here\n",
    "\n",
    "\n",
    "# не изменяйте код в блоке ниже! Он нужен для проверки правильности вашего кода.\n",
    "# __________start of block__________\n",
    "small_model = nn.Linear(128, 256)\n",
    "assert count_parameters(small_model) == 128 * 256 + 256, 'Что-то не так, количество параметров неверное'\n",
    "\n",
    "medium_model = nn.Sequential(*[nn.Linear(128, 32, bias=False), nn.ReLU(), nn.Linear(32, 10, bias=False)])\n",
    "assert count_parameters(medium_model) == 128 * 32 + 32 * 10, 'Что-то не так, количество параметров неверное'\n",
    "print(\"Seems fine!\")\n",
    "# __________end of block__________"
   ]
  },
  {
   "cell_type": "markdown",
   "metadata": {
    "id": "5CfQR34pB4W6"
   },
   "source": [
    "Скопируйте функцию `count_parameters` в `submission_template01.py` для последующей сдачи задания.\n",
    "Отправьте `submission_template01.py` в Яндекс.Контест."
   ]
  },
  {
   "cell_type": "markdown",
   "metadata": {
    "id": "reFoawRxB4W7"
   },
   "source": [
    "На этом первое домашнее задание завершено. Поздравляем!"
   ]
  },
  {
   "cell_type": "markdown",
   "metadata": {},
   "source": [
    "### Questions"
   ]
  },
  {
   "cell_type": "markdown",
   "metadata": {},
   "source": [
    "\n",
    "1. dl_2_1\n",
    "\n",
    "Какой функцией вы воспользуетесь для создания тензора размерности 5×6, заполненного единицами? Выберите все возможные варианты.\n",
    "* torch.one_tensor(5, 6)\n",
    "* torch.zeros((5, 6))\n",
    "* torch.one(5, 6)\n",
    "* torch.ones(5, 6)\n",
    "* torch.zeros(4, 5)\n"
   ]
  },
  {
   "cell_type": "code",
   "execution_count": 14,
   "metadata": {},
   "outputs": [
    {
     "data": {
      "text/plain": [
       "tensor([[1., 1., 1., 1., 1., 1.],\n",
       "        [1., 1., 1., 1., 1., 1.],\n",
       "        [1., 1., 1., 1., 1., 1.],\n",
       "        [1., 1., 1., 1., 1., 1.],\n",
       "        [1., 1., 1., 1., 1., 1.]])"
      ]
     },
     "execution_count": 14,
     "metadata": {},
     "output_type": "execute_result"
    }
   ],
   "source": [
    "torch.ones(5, 6)"
   ]
  },
  {
   "cell_type": "markdown",
   "metadata": {},
   "source": [
    "\n",
    "\n",
    "2. Какой import вы сделаете для получения доступа к функциям активации? Укажите все возможные варианты ответа, рассмотренные на лекции.\n",
    "\n",
    "*   import torch.neural_network\n",
    "*    import torch.NeuralNetworkTools\n",
    "*    import torch.nnt\n",
    "*    import torch.nn\n",
    "*    import torch.n_n\n",
    "*    import torch.nn.functional"
   ]
  },
  {
   "cell_type": "code",
   "execution_count": null,
   "metadata": {},
   "outputs": [],
   "source": [
    "import torch.nn\n",
    "import torch.nn.functional"
   ]
  },
  {
   "cell_type": "markdown",
   "metadata": {},
   "source": [
    "\n",
    "3. dl_2_3\n",
    "\n",
    "Какой функцией вы воспользуетесь для запуска процесса вычисления частных производных (т.е. градиента) некоторой функции u?\n",
    "* u.back()\n",
    "* u.grad()\n",
    "* u.backward()\n",
    "* u.zero_grad()\n",
    "* u.partial_derivates()\n",
    "* u.backprop()"
   ]
  },
  {
   "cell_type": "code",
   "execution_count": null,
   "metadata": {},
   "outputs": [],
   "source": [
    "u.backward()"
   ]
  },
  {
   "cell_type": "markdown",
   "metadata": {},
   "source": [
    "\n",
    "4. dl_2_4\n",
    "\n",
    "Укажите корректную последовательность действий, выполняемых на одном шаге алгоритма обучения модели нейронной сети. В ответе укажите последовательность букв, соответствующих корректной последовательности действий, без пробелов и других символов разделения. Например (без кавычек): “abc”. Укажите вариант, рассмотренный на лекции.\n",
    "\n",
    "a.Выполнение шага градиентного спуска (или другого алгоритма оптимизации).\n",
    "\n",
    "b.Получение предсказаний модели.\n",
    "\n",
    "c.Вычисление функции потерь для полученных предсказаний.\n",
    "\n",
    "d.Обновление градиентов.\n",
    "\n",
    "e.Обнуление градиентов.\n"
   ]
  },
  {
   "cell_type": "code",
   "execution_count": null,
   "metadata": {},
   "outputs": [],
   "source": [
    "import tqdm\n",
    "from tqdm.auto import tqdm\n",
    "\n",
    "def train(model, X, y, criterion, optimizer, num_epoch):\n",
    "    '''\n",
    "    args:\n",
    "        model - модель нейронной сети\n",
    "        X и y - обучающая выборка\n",
    "        criterion - функция потерь, взятая из модуля `torch.nn`\n",
    "        optimizer - оптимизатор, взятый из модуля `torch.optim`\n",
    "        num_epoch - количество эпох обучения. Т.е. число градиентных шагов,\n",
    "                    которые будут выполнены для каждого объекта в выборке\n",
    "    '''\n",
    "    # цикл по количеству эпох обучения\n",
    "    for t in tqdm(range(num_epoch)):\n",
    "        # Вычислим предсказания нашей модели\n",
    "        y_pred = model(X)\n",
    "\n",
    "        # Посчитаем значение функции потерь  на полученном предсказании\n",
    "        loss = criterion(y_pred, y)\n",
    "\n",
    "        # Обнулим посчитанные ранее значения градиентов\n",
    "        optimizer.zero_grad()\n",
    "        # Выполним подсчёт новых градиентов\n",
    "        loss.backward()\n",
    "        # Выполним шаг градиентного спуска\n",
    "        optimizer.step()\n",
    "\n",
    "    return model"
   ]
  },
  {
   "cell_type": "markdown",
   "metadata": {},
   "source": [
    "\n",
    "5. dl_2_5\n",
    "\n",
    "Укажите название класса, от которого нужно наследоваться при реализации собственного класса, описывающего работу нейронных сетей, когда нужно создать нелинейную архитектуру сети. В качестве ответа приведите только название класса без лишних пробелов, других символов и необходимых модулей. Например, если Вы считаете, что нужно наследоваться от класса torch.nn.Sequential, то в ответе нужно указать одно слово (без кавычек): “Sequential”.\n"
   ]
  },
  {
   "cell_type": "code",
   "execution_count": null,
   "metadata": {},
   "outputs": [],
   "source": [
    "# Module"
   ]
  },
  {
   "cell_type": "markdown",
   "metadata": {},
   "source": [
    "\n",
    "\n",
    "6. Предположим, мы создали некоторую нейросеть:\n",
    "\n",
    "import torch.nn as nn\n",
    "net = nn.Sequential(nn.Linear(5, 1, bias=True), nn.Tanh())\n",
    "\n",
    "Мы хотим применить эту сеть на некоторых данных X_test, заданных следующим образом:\n",
    "\n",
    "X_test = X.view(-1, 1)\n",
    "\n",
    "X - некоторая известная выборка данных. В ответе укажите код без лишних пробелов, прочих разделителей и присваиваний, позволяющий получить предсказания сети на данных X_test.\n"
   ]
  },
  {
   "cell_type": "markdown",
   "metadata": {},
   "source": [
    "# net(X_test)"
   ]
  },
  {
   "cell_type": "markdown",
   "metadata": {},
   "source": [
    "\n",
    "7. Что из нижеперечисленного вы передадите в качестве аргументов при создании оптимизатора в Pytorch?\n",
    "\n",
    "* Оптимизируемые параметры\n",
    "* Название алгоритма оптимизации\n",
    "* Максимально допустимое время оптимизации\n",
    "* Максимально допустимое число шагов градиентного спуска\n",
    "* Learning Rate"
   ]
  },
  {
   "cell_type": "code",
   "execution_count": null,
   "metadata": {},
   "outputs": [],
   "source": [
    "# torch.optim.SGD(net.parameters(), lr=0.01)"
   ]
  },
  {
   "cell_type": "markdown",
   "metadata": {},
   "source": [
    "8. dl_2_8\n",
    "\n",
    "Впишите название метода оптимизатора, позволяющего провести один шаг градиентного спуска. Ответ следует вводить без указания объекта, без скобок, пробелов и других разделяющих символов. Нужно указать просто имя соответствующего метода, например (без кавычек): “zero_grad”\n"
   ]
  },
  {
   "cell_type": "code",
   "execution_count": null,
   "metadata": {},
   "outputs": [],
   "source": [
    "# step"
   ]
  },
  {
   "cell_type": "markdown",
   "metadata": {},
   "source": [
    "\n",
    "9. dl_2_9\n",
    "\n",
    "Какой из указанных методов необходимо реализовать в классе при наследовании от nn.Module для определения операции прямого прохода через реализуемый модуль?\n",
    "* forward_prop\n",
    "* forward\n",
    "* forward_step\n",
    "* forstep\n",
    "* call"
   ]
  },
  {
   "cell_type": "code",
   "execution_count": null,
   "metadata": {},
   "outputs": [],
   "source": [
    "# forward"
   ]
  },
  {
   "cell_type": "markdown",
   "metadata": {},
   "source": [
    "\n",
    "10. dl_2_10\n",
    "\n",
    "На какие значения нужно заменить все знаки вопроса в коде ниже, чтобы построить корректную сеть, на вход которой подаются векторы размерности 4, а на выходе получается одно число? Считайте, что все необходимые import-ы выполнены.\n",
    "\n",
    "NN = nn.Sequential(nn.Linear(?, 3, bias=True), nn.Tanh(),\n",
    "                                nn.Linear(?, 1, bias=True))\n",
    "\n",
    "* 1, 3\n",
    "* 1, любое число\n",
    "* 4, любое число\n",
    "* 4, 3\n",
    "* 4, 1\n",
    "\n"
   ]
  },
  {
   "cell_type": "code",
   "execution_count": null,
   "metadata": {},
   "outputs": [],
   "source": [
    "NN = nn.Sequential(nn.Linear(4, 3, bias=True), nn.Tanh(),\n",
    "                                nn.Linear(3, 1, bias=True))"
   ]
  }
 ],
 "metadata": {
  "colab": {
   "provenance": []
  },
  "kernelspec": {
   "display_name": "IntroDL",
   "language": "python",
   "name": "python3"
  },
  "language_info": {
   "codemirror_mode": {
    "name": "ipython",
    "version": 3
   },
   "file_extension": ".py",
   "mimetype": "text/x-python",
   "name": "python",
   "nbconvert_exporter": "python",
   "pygments_lexer": "ipython3",
   "version": "3.12.5"
  }
 },
 "nbformat": 4,
 "nbformat_minor": 0
}
